{
 "cells": [
  {
   "cell_type": "code",
   "execution_count": 1,
   "metadata": {},
   "outputs": [],
   "source": [
    "import numpy as np"
   ]
  },
  {
   "cell_type": "code",
   "execution_count": 2,
   "metadata": {},
   "outputs": [
    {
     "data": {
      "text/plain": [
       "array([[[0, 0, 1],\n",
       "        [2, 0, 0],\n",
       "        [2, 1, 1]],\n",
       "\n",
       "       [[0, 2, 1],\n",
       "        [1, 1, 2],\n",
       "        [1, 0, 1]],\n",
       "\n",
       "       [[0, 1, 1],\n",
       "        [2, 2, 2],\n",
       "        [0, 2, 2]],\n",
       "\n",
       "       [[0, 0, 2],\n",
       "        [2, 0, 2],\n",
       "        [1, 2, 0]]])"
      ]
     },
     "execution_count": 2,
     "metadata": {},
     "output_type": "execute_result"
    }
   ],
   "source": [
    "rng = np.random.default_rng()\n",
    "reshaped_state = rng.integers(0, 3, size=(4, 3, 3))\n",
    "reshaped_state"
   ]
  },
  {
   "cell_type": "code",
   "execution_count": 3,
   "metadata": {},
   "outputs": [
    {
     "data": {
      "text/plain": [
       "array([[0, 0, 1],\n",
       "       [0, 2, 1],\n",
       "       [0, 1, 1],\n",
       "       [0, 0, 2]])"
      ]
     },
     "execution_count": 3,
     "metadata": {},
     "output_type": "execute_result"
    }
   ],
   "source": [
    "reshaped_state[:, 0]"
   ]
  },
  {
   "cell_type": "code",
   "execution_count": 4,
   "metadata": {},
   "outputs": [
    {
     "data": {
      "text/plain": [
       "array([[False, False, False],\n",
       "       [False, False, False],\n",
       "       [False,  True, False],\n",
       "       [False, False, False]])"
      ]
     },
     "execution_count": 4,
     "metadata": {},
     "output_type": "execute_result"
    }
   ],
   "source": [
    "rows_equal = (reshaped_state[:, :, 0] != 0) & (np.diff(reshaped_state, axis=2) == 0).all(axis=2)\n",
    "rows_equal"
   ]
  },
  {
   "cell_type": "code",
   "execution_count": 5,
   "metadata": {},
   "outputs": [
    {
     "data": {
      "text/plain": [
       "array([[False, False, False],\n",
       "       [False, False, False],\n",
       "       [False, False, False],\n",
       "       [False, False, False]])"
      ]
     },
     "execution_count": 5,
     "metadata": {},
     "output_type": "execute_result"
    }
   ],
   "source": [
    "cols_equal = (reshaped_state[:, 0, :] != 0) & (np.diff(reshaped_state, axis=1) == 0).all(axis=1)\n",
    "cols_equal"
   ]
  },
  {
   "cell_type": "markdown",
   "metadata": {},
   "source": [
    "DIAGONALS"
   ]
  },
  {
   "cell_type": "code",
   "execution_count": 6,
   "metadata": {},
   "outputs": [
    {
     "data": {
      "text/plain": [
       "array([0, 0, 0, 0])"
      ]
     },
     "execution_count": 6,
     "metadata": {},
     "output_type": "execute_result"
    }
   ],
   "source": [
    "reshaped_state[:, 0, 0]"
   ]
  },
  {
   "cell_type": "code",
   "execution_count": 7,
   "metadata": {},
   "outputs": [
    {
     "data": {
      "text/plain": [
       "array([[0, 0, 1],\n",
       "       [0, 1, 1],\n",
       "       [0, 2, 2],\n",
       "       [0, 0, 0]])"
      ]
     },
     "execution_count": 7,
     "metadata": {},
     "output_type": "execute_result"
    }
   ],
   "source": [
    "reshaped_state[:, np.eye(3, dtype=bool)]"
   ]
  },
  {
   "cell_type": "code",
   "execution_count": 8,
   "metadata": {},
   "outputs": [
    {
     "data": {
      "text/plain": [
       "array([False, False, False, False])"
      ]
     },
     "execution_count": 8,
     "metadata": {},
     "output_type": "execute_result"
    }
   ],
   "source": [
    "diagonal_1 = (reshaped_state[:, 0, 0] != 0) & (reshaped_state[:, 0, 0] == reshaped_state[:, 1, 1]) & (reshaped_state[:, 0, 0] == reshaped_state[:, 2, 2])\n",
    "diagonal_1"
   ]
  },
  {
   "cell_type": "markdown",
   "metadata": {},
   "source": [
    "OTHER DIAGONAL"
   ]
  },
  {
   "cell_type": "code",
   "execution_count": 9,
   "metadata": {},
   "outputs": [
    {
     "data": {
      "text/plain": [
       "array([False,  True, False, False])"
      ]
     },
     "execution_count": 9,
     "metadata": {},
     "output_type": "execute_result"
    }
   ],
   "source": [
    "diagonal_2 = (reshaped_state[:, 0, 2] != 0) & (reshaped_state[:, 0, 2] == reshaped_state[:, 1, 1]) & (reshaped_state[:, 0, 2] == reshaped_state[:, 2, 0])\n",
    "diagonal_2"
   ]
  },
  {
   "cell_type": "code",
   "execution_count": 10,
   "metadata": {},
   "outputs": [],
   "source": [
    "rows_equal = np.all(reshaped_state == reshaped_state[:, :, [0]], axis=2) & (\n",
    "    reshaped_state[:, :, 0] != 0\n",
    ")\n",
    "row_winners = reshaped_state[:, :, 0] * rows_equal\n",
    "cols_equal = np.all(reshaped_state == reshaped_state[:, [0], :], axis=1) & (\n",
    "    reshaped_state[:, 0, :] != 0\n",
    ")\n",
    "col_winners = reshaped_state[:, 0, :] * cols_equal\n",
    "diagonal_1 = (\n",
    "    (reshaped_state[:, 0, 0] != 0)\n",
    "    & (reshaped_state[:, 0, 0] == reshaped_state[:, 1, 1])\n",
    "    & (reshaped_state[:, 0, 0] == reshaped_state[:, 2, 2])\n",
    ")\n",
    "diagonal_1_winners = reshaped_state[:, 0, 0] * diagonal_1\n",
    "diagonal_2 = (\n",
    "    (reshaped_state[:, 0, 2] != 0)\n",
    "    & (reshaped_state[:, 0, 2] == reshaped_state[:, 1, 1])\n",
    "    & (reshaped_state[:, 0, 2] == reshaped_state[:, 2, 0])\n",
    ")\n",
    "diagonal_2_winners = reshaped_state[:, 0, 2] * diagonal_2"
   ]
  },
  {
   "cell_type": "code",
   "execution_count": 11,
   "metadata": {},
   "outputs": [
    {
     "data": {
      "text/plain": [
       "array([0, 1, 2, 0])"
      ]
     },
     "execution_count": 11,
     "metadata": {},
     "output_type": "execute_result"
    }
   ],
   "source": [
    "np.maximum(\n",
    "    row_winners.max(axis=1),\n",
    "    np.maximum(\n",
    "        col_winners.max(axis=1),\n",
    "        np.maximum(diagonal_1_winners, diagonal_2_winners),\n",
    "    ),\n",
    ")"
   ]
  },
  {
   "cell_type": "markdown",
   "metadata": {},
   "source": [
    "### JAX speedup"
   ]
  },
  {
   "cell_type": "code",
   "execution_count": null,
   "metadata": {},
   "outputs": [],
   "source": [
    "import jax\n",
    "import jax.numpy as jnp\n",
    "\n",
    "def check_win(state) -> int:\n",
    "    reshaped_state = state.reshape(3, 3)  # Reshape the state into a 2D (3x3) array\n",
    "    # Check for row-wise winners\n",
    "    rows_equal = jnp.all(reshaped_state == reshaped_state[:, [0]], axis=1) & (\n",
    "        reshaped_state[:, 0] != 0\n",
    "    )\n",
    "    row_winners = reshaped_state[:, 0] * rows_equal\n",
    "    \n",
    "    # Check for column-wise winners\n",
    "    cols_equal = jnp.all(reshaped_state == reshaped_state[[0], :], axis=0) & (\n",
    "        reshaped_state[0, :] != 0\n",
    "    )\n",
    "    col_winners = reshaped_state[0, :] * cols_equal\n",
    "    \n",
    "    # Check for diagonal winners\n",
    "    diagonal_1 = (\n",
    "        (reshaped_state[0, 0] != 0)\n",
    "        & (reshaped_state[0, 0] == reshaped_state[1, 1])\n",
    "        & (reshaped_state[0, 0] == reshaped_state[2, 2])\n",
    "    )\n",
    "    diagonal_1_winners = reshaped_state[0, 0] * diagonal_1\n",
    "    \n",
    "    diagonal_2 = (\n",
    "        (reshaped_state[0, 2] != 0)\n",
    "        & (reshaped_state[0, 2] == reshaped_state[1, 1])\n",
    "        & (reshaped_state[0, 2] == reshaped_state[2, 0])\n",
    "    )\n",
    "    diagonal_2_winners = reshaped_state[0, 2] * diagonal_2\n",
    "\n",
    "    # Return the maximum winner (1 for player 1, 2 for player 2, 0 for no winner)\n",
    "    return jnp.maximum(\n",
    "        row_winners.max(),\n",
    "        jnp.maximum(\n",
    "            col_winners.max(),\n",
    "            jnp.maximum(diagonal_1_winners, diagonal_2_winners),\n",
    "        ),\n",
    "    )\n",
    "\n",
    "# JIT-compiled version\n",
    "check_win_jit = jax.jit(check_win)"
   ]
  },
  {
   "cell_type": "code",
   "execution_count": null,
   "metadata": {},
   "outputs": [],
   "source": [
    "def check_non_jit(rng, n=10):\n",
    "    for _ in range(n):\n",
    "        rng, _ = jax.random.split(rng)\n",
    "        state = jax.random.randint(rng, (9,), 0, 3)\n",
    "        check_win(state)\n",
    "\n",
    "def check_jit(rng, n=10):\n",
    "    for _ in range(n):\n",
    "        rng, _ = jax.random.split(rng)\n",
    "        state = jax.random.randint(rng, (9,), 0, 3)\n",
    "        check_win_jit(state)"
   ]
  },
  {
   "cell_type": "code",
   "execution_count": 22,
   "metadata": {},
   "outputs": [
    {
     "name": "stdout",
     "output_type": "stream",
     "text": [
      "2.66 s ± 29.9 ms per loop (mean ± std. dev. of 7 runs, 1 loop each)\n"
     ]
    }
   ],
   "source": [
    "%timeit check_non_jit(jax.random.PRNGKey(np.random.randint(2**31)))"
   ]
  },
  {
   "cell_type": "code",
   "execution_count": 23,
   "metadata": {},
   "outputs": [
    {
     "name": "stdout",
     "output_type": "stream",
     "text": [
      "97.4 ms ± 670 μs per loop (mean ± std. dev. of 7 runs, 10 loops each)\n"
     ]
    }
   ],
   "source": [
    "%timeit check_jit(jax.random.PRNGKey(np.random.randint(2**31)))"
   ]
  }
 ],
 "metadata": {
  "kernelspec": {
   "display_name": ".venv",
   "language": "python",
   "name": "python3"
  },
  "language_info": {
   "codemirror_mode": {
    "name": "ipython",
    "version": 3
   },
   "file_extension": ".py",
   "mimetype": "text/x-python",
   "name": "python",
   "nbconvert_exporter": "python",
   "pygments_lexer": "ipython3",
   "version": "3.11.4"
  }
 },
 "nbformat": 4,
 "nbformat_minor": 2
}
