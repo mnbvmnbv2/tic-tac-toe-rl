{
 "cells": [
  {
   "cell_type": "code",
   "execution_count": 1,
   "metadata": {},
   "outputs": [],
   "source": [
    "import jax\n",
    "import jax.numpy as jnp\n",
    "from jax import lax\n",
    "import time\n",
    "import numpy as np\n",
    "import numba\n",
    "import functools\n",
    "from c_tictactoe import check_winner"
   ]
  },
  {
   "cell_type": "code",
   "execution_count": 2,
   "metadata": {},
   "outputs": [],
   "source": [
    "# Win conditions defined as indices on the board\n",
    "def check_win1(board: jnp.ndarray) -> int:\n",
    "    win_conditions = jnp.array(\n",
    "        [\n",
    "            (0, 1, 2),\n",
    "            (3, 4, 5),\n",
    "            (6, 7, 8),\n",
    "            (0, 3, 6),\n",
    "            (1, 4, 8),\n",
    "            (2, 5, 8),\n",
    "            (0, 4, 8),\n",
    "            (2, 4, 6),\n",
    "        ],\n",
    "        dtype=jnp.int32,\n",
    "    )\n",
    "\n",
    "    def check_line(winner, line):\n",
    "        line_win = lax.cond(\n",
    "            (board[line[0]] == board[line[1]])\n",
    "            & (board[line[1]] == board[line[2]])\n",
    "            & (board[line[0]] != 0),\n",
    "            lambda: board[line[0]].astype(jnp.int32),  # Ensuring int32 output\n",
    "            lambda: jnp.array(0, dtype=jnp.int32),  # Ensuring int32 output\n",
    "        )\n",
    "        return jnp.maximum(winner, line_win), None\n",
    "\n",
    "    # Use `jnp.array(0)` as the initial carry value, which represents \"no winner\"\n",
    "    winner, _ = lax.scan(check_line, jnp.array(0), win_conditions)\n",
    "    return winner  # Returns 1 if player wins, 2 if opponent wins, 0 otherwise"
   ]
  },
  {
   "cell_type": "code",
   "execution_count": 3,
   "metadata": {},
   "outputs": [],
   "source": [
    "def check_win2(board: jnp.ndarray) -> int:\n",
    "    reshaped_state = board.reshape(3, 3)\n",
    "    # 0 for tie, 1 for player 1, 2 for player 2\n",
    "    # Check for row-wise winners\n",
    "    rows_equal = jnp.all(reshaped_state == reshaped_state[:, [0]], axis=1) & (\n",
    "        reshaped_state[:, 0] != 0\n",
    "    )\n",
    "    row_winners = reshaped_state[:, 0] * rows_equal\n",
    "\n",
    "    # Check for column-wise winners\n",
    "    cols_equal = jnp.all(reshaped_state == reshaped_state[[0], :], axis=0) & (\n",
    "        reshaped_state[0, :] != 0\n",
    "    )\n",
    "    col_winners = reshaped_state[0, :] * cols_equal\n",
    "\n",
    "    # Check for diagonal winners\n",
    "    diagonal_1 = (\n",
    "        (reshaped_state[0, 0] != 0)\n",
    "        & (reshaped_state[0, 0] == reshaped_state[1, 1])\n",
    "        & (reshaped_state[0, 0] == reshaped_state[2, 2])\n",
    "    )\n",
    "    diagonal_1_winners = reshaped_state[0, 0] * diagonal_1\n",
    "\n",
    "    diagonal_2 = (\n",
    "        (reshaped_state[0, 2] != 0)\n",
    "        & (reshaped_state[0, 2] == reshaped_state[1, 1])\n",
    "        & (reshaped_state[0, 2] == reshaped_state[2, 0])\n",
    "    )\n",
    "    diagonal_2_winners = reshaped_state[0, 2] * diagonal_2\n",
    "\n",
    "    # Return the maximum winner (1 for player 1, 2 for player 2, 0 for no winner)\n",
    "    return jnp.maximum(\n",
    "        row_winners.max(),\n",
    "        jnp.maximum(\n",
    "            col_winners.max(),\n",
    "            jnp.maximum(diagonal_1_winners, diagonal_2_winners),\n",
    "        ),\n",
    "    )"
   ]
  },
  {
   "cell_type": "code",
   "execution_count": 4,
   "metadata": {},
   "outputs": [],
   "source": [
    "def check_win2_np(board: np.ndarray) -> int:\n",
    "    reshaped_state = board.reshape(3, 3)\n",
    "    # 0 for tie, 1 for player 1, 2 for player 2\n",
    "    # Check for row-wise winners\n",
    "    rows_equal = np.all(reshaped_state == reshaped_state[:, [0]], axis=1) & (\n",
    "        reshaped_state[:, 0] != 0\n",
    "    )\n",
    "    row_winners = reshaped_state[:, 0] * rows_equal\n",
    "\n",
    "    # Check for column-wise winners\n",
    "    cols_equal = np.all(reshaped_state == reshaped_state[[0], :], axis=0) & (\n",
    "        reshaped_state[0, :] != 0\n",
    "    )\n",
    "    col_winners = reshaped_state[0, :] * cols_equal\n",
    "\n",
    "    # Check for diagonal winners\n",
    "    diagonal_1 = (\n",
    "        (reshaped_state[0, 0] != 0)\n",
    "        & (reshaped_state[0, 0] == reshaped_state[1, 1])\n",
    "        & (reshaped_state[0, 0] == reshaped_state[2, 2])\n",
    "    )\n",
    "    diagonal_1_winners = reshaped_state[0, 0] * diagonal_1\n",
    "\n",
    "    diagonal_2 = (\n",
    "        (reshaped_state[0, 2] != 0)\n",
    "        & (reshaped_state[0, 2] == reshaped_state[1, 1])\n",
    "        & (reshaped_state[0, 2] == reshaped_state[2, 0])\n",
    "    )\n",
    "    diagonal_2_winners = reshaped_state[0, 2] * diagonal_2\n",
    "\n",
    "    # Return the maximum winner (1 for player 1, 2 for player 2, 0 for no winner)\n",
    "    return max(\n",
    "        row_winners.max(),\n",
    "        max(\n",
    "            col_winners.max(),\n",
    "            max(diagonal_1_winners, diagonal_2_winners),\n",
    "        ),\n",
    "    )"
   ]
  },
  {
   "cell_type": "code",
   "execution_count": 5,
   "metadata": {},
   "outputs": [],
   "source": [
    "def check_win3(board: jnp.ndarray) -> int:\n",
    "    # 0 for tie, 1 for player 1, 2 for player 2\n",
    "    reshaped_state = board.reshape(3, 3)\n",
    "    # rows\n",
    "    rows_equal = jnp.all(reshaped_state == reshaped_state[:, [0]], axis=1) & (\n",
    "        reshaped_state[:, 0] != 0\n",
    "    )\n",
    "    if jnp.any(rows_equal):\n",
    "        return reshaped_state[rows_equal][0, 0]\n",
    "    # columns\n",
    "    cols_equal = jnp.all(reshaped_state == reshaped_state[[0], :], axis=0) & (\n",
    "        reshaped_state[0, :] != 0\n",
    "    )\n",
    "    if jnp.any(cols_equal):\n",
    "        return reshaped_state[0, cols_equal][0]\n",
    "    # diagonals\n",
    "    if reshaped_state[0, 0] == reshaped_state[1, 1] == reshaped_state[2, 2] != 0:\n",
    "        return reshaped_state[0, 0]\n",
    "    if reshaped_state[2, 0] == reshaped_state[1, 1] == reshaped_state[0, 2] != 0:\n",
    "        return reshaped_state[2, 0]\n",
    "    return 0"
   ]
  },
  {
   "cell_type": "code",
   "execution_count": 6,
   "metadata": {},
   "outputs": [],
   "source": [
    "def check_win3_np(board: np.ndarray) -> int:\n",
    "    # 0 for tie, 1 for player 1, 2 for player 2\n",
    "    reshaped_state = board.reshape(3, 3)\n",
    "    # rows\n",
    "    rows_equal = np.all(reshaped_state == reshaped_state[:, [0]], axis=1) & (\n",
    "        reshaped_state[:, 0] != 0\n",
    "    )\n",
    "    if np.any(rows_equal):\n",
    "        return reshaped_state[rows_equal][0, 0]\n",
    "    # columns\n",
    "    cols_equal = np.all(reshaped_state == reshaped_state[[0], :], axis=0) & (\n",
    "        reshaped_state[0, :] != 0\n",
    "    )\n",
    "    if np.any(cols_equal):\n",
    "        return reshaped_state[0, cols_equal][0]\n",
    "    # diagonals\n",
    "    if reshaped_state[0, 0] == reshaped_state[1, 1] == reshaped_state[2, 2] != 0:\n",
    "        return reshaped_state[0, 0]\n",
    "    if reshaped_state[2, 0] == reshaped_state[1, 1] == reshaped_state[0, 2] != 0:\n",
    "        return reshaped_state[2, 0]\n",
    "    return 0"
   ]
  },
  {
   "cell_type": "code",
   "execution_count": 7,
   "metadata": {},
   "outputs": [],
   "source": [
    "@numba.njit\n",
    "def check_win3_numba(board: np.ndarray) -> int:\n",
    "    # Reshape the board\n",
    "    reshaped_state = board.reshape(3, 3)\n",
    "    \n",
    "    # Check rows\n",
    "    for row in range(3):\n",
    "        if reshaped_state[row, 0] != 0 and reshaped_state[row, 0] == reshaped_state[row, 1] == reshaped_state[row, 2]:\n",
    "            return reshaped_state[row, 0]\n",
    "    \n",
    "    # Check columns\n",
    "    for col in range(3):\n",
    "        if reshaped_state[0, col] != 0 and reshaped_state[0, col] == reshaped_state[1, col] == reshaped_state[2, col]:\n",
    "            return reshaped_state[0, col]\n",
    "    \n",
    "    # Check diagonals\n",
    "    if reshaped_state[0, 0] != 0 and reshaped_state[0, 0] == reshaped_state[1, 1] == reshaped_state[2, 2]:\n",
    "        return reshaped_state[0, 0]\n",
    "    if reshaped_state[2, 0] != 0 and reshaped_state[2, 0] == reshaped_state[1, 1] == reshaped_state[0, 2]:\n",
    "        return reshaped_state[2, 0]\n",
    "    \n",
    "    # No winner\n",
    "    return 0"
   ]
  },
  {
   "cell_type": "code",
   "execution_count": 8,
   "metadata": {},
   "outputs": [],
   "source": [
    "def check_win4(board: jnp.ndarray) -> int:\n",
    "    win_conditions = jnp.array(\n",
    "        [\n",
    "            [0, 1, 2],  # Rows\n",
    "            [3, 4, 5],\n",
    "            [6, 7, 8],\n",
    "            [0, 3, 6],  # Columns\n",
    "            [1, 4, 7],\n",
    "            [2, 5, 8],\n",
    "            [0, 4, 8],  # Diagonals\n",
    "            [2, 4, 6],\n",
    "        ],\n",
    "        dtype=jnp.int32,\n",
    "    )\n",
    "    # Extract the values at the win conditions\n",
    "    lines = board[win_conditions]  # Shape: (8, 3)\n",
    "\n",
    "    # Check if all elements in a line are the same and not zero\n",
    "    lines_equal = (lines[:, 0] == lines[:, 1]) & (lines[:, 1] == lines[:, 2]) & (lines[:, 0] != 0)\n",
    "\n",
    "    # Get the winner for each line\n",
    "    line_winners = lines[:, 0] * lines_equal  # Winner is lines[:, 0] if line is equal, else zero\n",
    "\n",
    "    # Return the maximum winner (1 or 2 if there's a winner, 0 otherwise)\n",
    "    return jnp.max(line_winners)"
   ]
  },
  {
   "cell_type": "code",
   "execution_count": 9,
   "metadata": {},
   "outputs": [],
   "source": [
    "def check_win5(board: jnp.ndarray) -> int:\n",
    "    win_conditions = jnp.array(\n",
    "        [\n",
    "            [0, 1, 2],  # Rows\n",
    "            [3, 4, 5],\n",
    "            [6, 7, 8],\n",
    "            [0, 3, 6],  # Columns\n",
    "            [1, 4, 7],\n",
    "            [2, 5, 8],\n",
    "            [0, 4, 8],  # Diagonals\n",
    "            [2, 4, 6],\n",
    "        ],\n",
    "        dtype=jnp.int32,\n",
    "    )\n",
    "\n",
    "    # Gather the board values at the win condition indices\n",
    "    lines = board[win_conditions]  # Shape: (8, 3)\n",
    "\n",
    "    # Check if all elements in a line are equal and not zero\n",
    "    lines_equal = (lines == lines[:, [0]]) & (lines[:, 0:1] != 0)\n",
    "    winners = lines[:, 0] * jnp.all(lines_equal, axis=1)\n",
    "\n",
    "    # Return the maximum winner (1 or 2 if there's a winner, 0 otherwise)\n",
    "    return jnp.max(winners)"
   ]
  },
  {
   "cell_type": "code",
   "execution_count": 10,
   "metadata": {},
   "outputs": [],
   "source": [
    "def benchmark(func):\n",
    "    key, rng = jax.random.split(jax.random.PRNGKey(0), 2)\n",
    "    for _ in range(5):\n",
    "        key, rng = jax.random.split(key, 2)\n",
    "        board= jax.random.randint(rng, (9,), 0, 3)\n",
    "        func(board)\n",
    "\n",
    "def benchmark_np(func):\n",
    "    for _ in range(5):\n",
    "        board = np.random.randint(0, 3, 9)\n",
    "        func(board)\n",
    "\n",
    "@functools.partial(jax.jit, static_argnums=(0,))\n",
    "def benchmark_jax(func):\n",
    "    key, rng = jax.random.split(jax.random.PRNGKey(0), 2)\n",
    "    for _ in range(5):\n",
    "        key, rng = jax.random.split(key, 2)\n",
    "        board= jax.random.randint(rng, (9,), 0, 3)\n",
    "        jax.block_until_ready(func(board))"
   ]
  },
  {
   "cell_type": "code",
   "execution_count": 11,
   "metadata": {},
   "outputs": [
    {
     "data": {
      "text/plain": [
       "Array(1, dtype=int32)"
      ]
     },
     "execution_count": 11,
     "metadata": {},
     "output_type": "execute_result"
    }
   ],
   "source": [
    "jit_check_win1 = jax.jit(check_win1)\n",
    "jit_check_win2 = jax.jit(check_win2)\n",
    "jit_check_win3 = jax.jit(check_win3)\n",
    "jit_check_win4 = jax.jit(check_win4)\n",
    "jit_check_win5 = jax.jit(check_win5)\n",
    "jit_check_win1(jnp.array([1, 1, 1, 0, 0, 0, 0, 0, 0]))\n",
    "jit_check_win2(jnp.array([1, 1, 1, 0, 0, 0, 0, 0, 0]))\n",
    "# jit_check_win3(jnp.array([1, 1, 1, 0, 0, 0, 0, 0, 0]))\n",
    "jit_check_win4(jnp.array([1, 1, 1, 0, 0, 0, 0, 0, 0]))\n",
    "jit_check_win5(jnp.array([1, 1, 1, 0, 0, 0, 0, 0, 0]))"
   ]
  },
  {
   "cell_type": "code",
   "execution_count": 12,
   "metadata": {},
   "outputs": [
    {
     "name": "stdout",
     "output_type": "stream",
     "text": [
      "269 ms ± 23 ms per loop (mean ± std. dev. of 7 runs, 1 loop each)\n"
     ]
    },
    {
     "ename": "KeyboardInterrupt",
     "evalue": "",
     "output_type": "error",
     "traceback": [
      "\u001b[1;31m---------------------------------------------------------------------------\u001b[0m",
      "\u001b[1;31mKeyboardInterrupt\u001b[0m                         Traceback (most recent call last)",
      "Cell \u001b[1;32mIn[12], line 2\u001b[0m\n\u001b[0;32m      1\u001b[0m get_ipython()\u001b[38;5;241m.\u001b[39mrun_line_magic(\u001b[38;5;124m'\u001b[39m\u001b[38;5;124mtimeit\u001b[39m\u001b[38;5;124m'\u001b[39m, \u001b[38;5;124m'\u001b[39m\u001b[38;5;124mbenchmark(check_win1)\u001b[39m\u001b[38;5;124m'\u001b[39m)\n\u001b[1;32m----> 2\u001b[0m \u001b[43mget_ipython\u001b[49m\u001b[43m(\u001b[49m\u001b[43m)\u001b[49m\u001b[38;5;241;43m.\u001b[39;49m\u001b[43mrun_line_magic\u001b[49m\u001b[43m(\u001b[49m\u001b[38;5;124;43m'\u001b[39;49m\u001b[38;5;124;43mtimeit\u001b[39;49m\u001b[38;5;124;43m'\u001b[39;49m\u001b[43m,\u001b[49m\u001b[43m \u001b[49m\u001b[38;5;124;43m'\u001b[39;49m\u001b[38;5;124;43mbenchmark(jit_check_win1)\u001b[39;49m\u001b[38;5;124;43m'\u001b[39;49m\u001b[43m)\u001b[49m\n\u001b[0;32m      3\u001b[0m get_ipython()\u001b[38;5;241m.\u001b[39mrun_line_magic(\u001b[38;5;124m'\u001b[39m\u001b[38;5;124mtimeit\u001b[39m\u001b[38;5;124m'\u001b[39m, \u001b[38;5;124m'\u001b[39m\u001b[38;5;124mbenchmark(check_win2)\u001b[39m\u001b[38;5;124m'\u001b[39m)\n\u001b[0;32m      4\u001b[0m get_ipython()\u001b[38;5;241m.\u001b[39mrun_line_magic(\u001b[38;5;124m'\u001b[39m\u001b[38;5;124mtimeit\u001b[39m\u001b[38;5;124m'\u001b[39m, \u001b[38;5;124m'\u001b[39m\u001b[38;5;124mbenchmark(jit_check_win2)\u001b[39m\u001b[38;5;124m'\u001b[39m)\n",
      "File \u001b[1;32mc:\\Users\\Ferdinand\\Documents\\GitHub\\tic-tac-toe-rl\\.venv\\Lib\\site-packages\\IPython\\core\\interactiveshell.py:2480\u001b[0m, in \u001b[0;36mInteractiveShell.run_line_magic\u001b[1;34m(self, magic_name, line, _stack_depth)\u001b[0m\n\u001b[0;32m   2478\u001b[0m     kwargs[\u001b[38;5;124m'\u001b[39m\u001b[38;5;124mlocal_ns\u001b[39m\u001b[38;5;124m'\u001b[39m] \u001b[38;5;241m=\u001b[39m \u001b[38;5;28mself\u001b[39m\u001b[38;5;241m.\u001b[39mget_local_scope(stack_depth)\n\u001b[0;32m   2479\u001b[0m \u001b[38;5;28;01mwith\u001b[39;00m \u001b[38;5;28mself\u001b[39m\u001b[38;5;241m.\u001b[39mbuiltin_trap:\n\u001b[1;32m-> 2480\u001b[0m     result \u001b[38;5;241m=\u001b[39m \u001b[43mfn\u001b[49m\u001b[43m(\u001b[49m\u001b[38;5;241;43m*\u001b[39;49m\u001b[43margs\u001b[49m\u001b[43m,\u001b[49m\u001b[43m \u001b[49m\u001b[38;5;241;43m*\u001b[39;49m\u001b[38;5;241;43m*\u001b[39;49m\u001b[43mkwargs\u001b[49m\u001b[43m)\u001b[49m\n\u001b[0;32m   2482\u001b[0m \u001b[38;5;66;03m# The code below prevents the output from being displayed\u001b[39;00m\n\u001b[0;32m   2483\u001b[0m \u001b[38;5;66;03m# when using magics with decorator @output_can_be_silenced\u001b[39;00m\n\u001b[0;32m   2484\u001b[0m \u001b[38;5;66;03m# when the last Python token in the expression is a ';'.\u001b[39;00m\n\u001b[0;32m   2485\u001b[0m \u001b[38;5;28;01mif\u001b[39;00m \u001b[38;5;28mgetattr\u001b[39m(fn, magic\u001b[38;5;241m.\u001b[39mMAGIC_OUTPUT_CAN_BE_SILENCED, \u001b[38;5;28;01mFalse\u001b[39;00m):\n",
      "File \u001b[1;32mc:\\Users\\Ferdinand\\Documents\\GitHub\\tic-tac-toe-rl\\.venv\\Lib\\site-packages\\IPython\\core\\magics\\execution.py:1185\u001b[0m, in \u001b[0;36mExecutionMagics.timeit\u001b[1;34m(self, line, cell, local_ns)\u001b[0m\n\u001b[0;32m   1183\u001b[0m \u001b[38;5;28;01mfor\u001b[39;00m index \u001b[38;5;129;01min\u001b[39;00m \u001b[38;5;28mrange\u001b[39m(\u001b[38;5;241m0\u001b[39m, \u001b[38;5;241m10\u001b[39m):\n\u001b[0;32m   1184\u001b[0m     number \u001b[38;5;241m=\u001b[39m \u001b[38;5;241m10\u001b[39m \u001b[38;5;241m*\u001b[39m\u001b[38;5;241m*\u001b[39m index\n\u001b[1;32m-> 1185\u001b[0m     time_number \u001b[38;5;241m=\u001b[39m \u001b[43mtimer\u001b[49m\u001b[38;5;241;43m.\u001b[39;49m\u001b[43mtimeit\u001b[49m\u001b[43m(\u001b[49m\u001b[43mnumber\u001b[49m\u001b[43m)\u001b[49m\n\u001b[0;32m   1186\u001b[0m     \u001b[38;5;28;01mif\u001b[39;00m time_number \u001b[38;5;241m>\u001b[39m\u001b[38;5;241m=\u001b[39m \u001b[38;5;241m0.2\u001b[39m:\n\u001b[0;32m   1187\u001b[0m         \u001b[38;5;28;01mbreak\u001b[39;00m\n",
      "File \u001b[1;32mc:\\Users\\Ferdinand\\Documents\\GitHub\\tic-tac-toe-rl\\.venv\\Lib\\site-packages\\IPython\\core\\magics\\execution.py:173\u001b[0m, in \u001b[0;36mTimer.timeit\u001b[1;34m(self, number)\u001b[0m\n\u001b[0;32m    171\u001b[0m gc\u001b[38;5;241m.\u001b[39mdisable()\n\u001b[0;32m    172\u001b[0m \u001b[38;5;28;01mtry\u001b[39;00m:\n\u001b[1;32m--> 173\u001b[0m     timing \u001b[38;5;241m=\u001b[39m \u001b[38;5;28;43mself\u001b[39;49m\u001b[38;5;241;43m.\u001b[39;49m\u001b[43minner\u001b[49m\u001b[43m(\u001b[49m\u001b[43mit\u001b[49m\u001b[43m,\u001b[49m\u001b[43m \u001b[49m\u001b[38;5;28;43mself\u001b[39;49m\u001b[38;5;241;43m.\u001b[39;49m\u001b[43mtimer\u001b[49m\u001b[43m)\u001b[49m\n\u001b[0;32m    174\u001b[0m \u001b[38;5;28;01mfinally\u001b[39;00m:\n\u001b[0;32m    175\u001b[0m     \u001b[38;5;28;01mif\u001b[39;00m gcold:\n",
      "File \u001b[1;32m<magic-timeit>:1\u001b[0m, in \u001b[0;36minner\u001b[1;34m(_it, _timer)\u001b[0m\n",
      "Cell \u001b[1;32mIn[10], line 6\u001b[0m, in \u001b[0;36mbenchmark\u001b[1;34m(func)\u001b[0m\n\u001b[0;32m      4\u001b[0m key, rng \u001b[38;5;241m=\u001b[39m jax\u001b[38;5;241m.\u001b[39mrandom\u001b[38;5;241m.\u001b[39msplit(key, \u001b[38;5;241m2\u001b[39m)\n\u001b[0;32m      5\u001b[0m board\u001b[38;5;241m=\u001b[39m jax\u001b[38;5;241m.\u001b[39mrandom\u001b[38;5;241m.\u001b[39mrandint(rng, (\u001b[38;5;241m9\u001b[39m,), \u001b[38;5;241m0\u001b[39m, \u001b[38;5;241m3\u001b[39m)\n\u001b[1;32m----> 6\u001b[0m \u001b[43mfunc\u001b[49m\u001b[43m(\u001b[49m\u001b[43mboard\u001b[49m\u001b[43m)\u001b[49m\n",
      "\u001b[1;31mKeyboardInterrupt\u001b[0m: "
     ]
    }
   ],
   "source": [
    "%timeit benchmark(check_win1)\n",
    "%timeit benchmark(jit_check_win1)\n",
    "%timeit benchmark(check_win2)\n",
    "%timeit benchmark(jit_check_win2)\n",
    "%timeit benchmark(check_win3)\n",
    "%timeit benchmark(check_win4)\n",
    "%timeit benchmark(jit_check_win4)\n",
    "%timeit benchmark(check_win5)\n",
    "%timeit benchmark(jit_check_win5)"
   ]
  },
  {
   "cell_type": "code",
   "execution_count": null,
   "metadata": {},
   "outputs": [
    {
     "name": "stdout",
     "output_type": "stream",
     "text": [
      "2.41 μs ± 38.4 ns per loop (mean ± std. dev. of 7 runs, 100,000 loops each)\n",
      "2.45 μs ± 93.2 ns per loop (mean ± std. dev. of 7 runs, 100,000 loops each)\n",
      "2.63 μs ± 197 ns per loop (mean ± std. dev. of 7 runs, 100,000 loops each)\n",
      "2.82 μs ± 354 ns per loop (mean ± std. dev. of 7 runs, 100,000 loops each)\n",
      "2.49 μs ± 56.2 ns per loop (mean ± std. dev. of 7 runs, 100,000 loops each)\n",
      "2.43 μs ± 70.8 ns per loop (mean ± std. dev. of 7 runs, 100,000 loops each)\n",
      "2.42 μs ± 51.3 ns per loop (mean ± std. dev. of 7 runs, 100,000 loops each)\n",
      "2.53 μs ± 137 ns per loop (mean ± std. dev. of 7 runs, 100,000 loops each)\n"
     ]
    }
   ],
   "source": [
    "%timeit benchmark_jax(check_win1)\n",
    "%timeit benchmark_jax(jit_check_win1)\n",
    "%timeit benchmark_jax(check_win2)\n",
    "%timeit benchmark_jax(jit_check_win2)\n",
    "%timeit benchmark_jax(check_win4)\n",
    "%timeit benchmark_jax(jit_check_win4)\n",
    "%timeit benchmark_jax(check_win5)\n",
    "%timeit benchmark_jax(jit_check_win5)"
   ]
  },
  {
   "cell_type": "code",
   "execution_count": null,
   "metadata": {},
   "outputs": [
    {
     "name": "stdout",
     "output_type": "stream",
     "text": [
      "180 μs ± 6.81 μs per loop (mean ± std. dev. of 7 runs, 1,000 loops each)\n",
      "157 μs ± 1.9 μs per loop (mean ± std. dev. of 7 runs, 10,000 loops each)\n"
     ]
    }
   ],
   "source": [
    "%timeit benchmark_np(check_win2_np)\n",
    "%timeit benchmark_np(check_win3_np)"
   ]
  },
  {
   "cell_type": "code",
   "execution_count": null,
   "metadata": {},
   "outputs": [
    {
     "data": {
      "text/plain": [
       "1"
      ]
     },
     "execution_count": 15,
     "metadata": {},
     "output_type": "execute_result"
    }
   ],
   "source": [
    "check_win3_numba(np.array([1, 1, 1, 0, 0, 0, 0, 0, 0]))"
   ]
  },
  {
   "cell_type": "code",
   "execution_count": null,
   "metadata": {},
   "outputs": [
    {
     "name": "stdout",
     "output_type": "stream",
     "text": [
      "35.2 μs ± 8.77 μs per loop (mean ± std. dev. of 7 runs, 1 loop each)\n"
     ]
    }
   ],
   "source": [
    "%timeit benchmark_np(check_win3_numba)"
   ]
  },
  {
   "cell_type": "code",
   "execution_count": 13,
   "metadata": {},
   "outputs": [
    {
     "name": "stdout",
     "output_type": "stream",
     "text": [
      "32.4 μs ± 645 ns per loop (mean ± std. dev. of 7 runs, 10,000 loops each)\n"
     ]
    }
   ],
   "source": [
    "%timeit benchmark_np(check_winner)"
   ]
  },
  {
   "cell_type": "code",
   "execution_count": null,
   "metadata": {},
   "outputs": [
    {
     "data": {
      "text/plain": [
       "{ \u001b[34m\u001b[22m\u001b[1mlambda \u001b[39m\u001b[22m\u001b[22ma\u001b[35m:i32[8,3]\u001b[39m; b\u001b[35m:i32[9]\u001b[39m. \u001b[34m\u001b[22m\u001b[1mlet\n",
       "    \u001b[39m\u001b[22m\u001b[22mc\u001b[35m:i32[]\u001b[39m = scan[\n",
       "      _split_transpose=False\n",
       "      jaxpr={ \u001b[34m\u001b[22m\u001b[1mlambda \u001b[39m\u001b[22m\u001b[22m; d\u001b[35m:i32[9]\u001b[39m e\u001b[35m:i32[]\u001b[39m f\u001b[35m:i32[3]\u001b[39m. \u001b[34m\u001b[22m\u001b[1mlet\n",
       "          \u001b[39m\u001b[22m\u001b[22mg\u001b[35m:i32[1]\u001b[39m = slice[limit_indices=(1,) start_indices=(0,) strides=None] f\n",
       "          h\u001b[35m:i32[]\u001b[39m = squeeze[dimensions=(0,)] g\n",
       "          i\u001b[35m:bool[]\u001b[39m = lt h 0\n",
       "          j\u001b[35m:i32[]\u001b[39m = add h 9\n",
       "          k\u001b[35m:i32[]\u001b[39m = select_n i h j\n",
       "          l\u001b[35m:i32[1]\u001b[39m = dynamic_slice[slice_sizes=(1,)] d k\n",
       "          m\u001b[35m:i32[]\u001b[39m = squeeze[dimensions=(0,)] l\n",
       "          n\u001b[35m:i32[1]\u001b[39m = slice[limit_indices=(2,) start_indices=(1,) strides=None] f\n",
       "          o\u001b[35m:i32[]\u001b[39m = squeeze[dimensions=(0,)] n\n",
       "          p\u001b[35m:bool[]\u001b[39m = lt o 0\n",
       "          q\u001b[35m:i32[]\u001b[39m = add o 9\n",
       "          r\u001b[35m:i32[]\u001b[39m = select_n p o q\n",
       "          s\u001b[35m:i32[1]\u001b[39m = dynamic_slice[slice_sizes=(1,)] d r\n",
       "          t\u001b[35m:i32[]\u001b[39m = squeeze[dimensions=(0,)] s\n",
       "          u\u001b[35m:bool[]\u001b[39m = eq m t\n",
       "          v\u001b[35m:i32[1]\u001b[39m = slice[limit_indices=(2,) start_indices=(1,) strides=None] f\n",
       "          w\u001b[35m:i32[]\u001b[39m = squeeze[dimensions=(0,)] v\n",
       "          x\u001b[35m:bool[]\u001b[39m = lt w 0\n",
       "          y\u001b[35m:i32[]\u001b[39m = add w 9\n",
       "          z\u001b[35m:i32[]\u001b[39m = select_n x w y\n",
       "          ba\u001b[35m:i32[1]\u001b[39m = dynamic_slice[slice_sizes=(1,)] d z\n",
       "          bb\u001b[35m:i32[]\u001b[39m = squeeze[dimensions=(0,)] ba\n",
       "          bc\u001b[35m:i32[1]\u001b[39m = slice[limit_indices=(3,) start_indices=(2,) strides=None] f\n",
       "          bd\u001b[35m:i32[]\u001b[39m = squeeze[dimensions=(0,)] bc\n",
       "          be\u001b[35m:bool[]\u001b[39m = lt bd 0\n",
       "          bf\u001b[35m:i32[]\u001b[39m = add bd 9\n",
       "          bg\u001b[35m:i32[]\u001b[39m = select_n be bd bf\n",
       "          bh\u001b[35m:i32[1]\u001b[39m = dynamic_slice[slice_sizes=(1,)] d bg\n",
       "          bi\u001b[35m:i32[]\u001b[39m = squeeze[dimensions=(0,)] bh\n",
       "          bj\u001b[35m:bool[]\u001b[39m = eq bb bi\n",
       "          bk\u001b[35m:bool[]\u001b[39m = and u bj\n",
       "          bl\u001b[35m:i32[1]\u001b[39m = slice[limit_indices=(1,) start_indices=(0,) strides=None] f\n",
       "          bm\u001b[35m:i32[]\u001b[39m = squeeze[dimensions=(0,)] bl\n",
       "          bn\u001b[35m:bool[]\u001b[39m = lt bm 0\n",
       "          bo\u001b[35m:i32[]\u001b[39m = add bm 9\n",
       "          bp\u001b[35m:i32[]\u001b[39m = select_n bn bm bo\n",
       "          bq\u001b[35m:i32[1]\u001b[39m = dynamic_slice[slice_sizes=(1,)] d bp\n",
       "          br\u001b[35m:i32[]\u001b[39m = squeeze[dimensions=(0,)] bq\n",
       "          bs\u001b[35m:bool[]\u001b[39m = ne br 0\n",
       "          bt\u001b[35m:bool[]\u001b[39m = and bk bs\n",
       "          bu\u001b[35m:i32[]\u001b[39m = convert_element_type[new_dtype=int32 weak_type=False] bt\n",
       "          bv\u001b[35m:i32[]\u001b[39m = cond[\n",
       "            branches=(\n",
       "              { \u001b[34m\u001b[22m\u001b[1mlambda \u001b[39m\u001b[22m\u001b[22m; bw_\u001b[35m:i32[3]\u001b[39m bx_\u001b[35m:i32[9]\u001b[39m. \u001b[34m\u001b[22m\u001b[1mlet\u001b[39m\u001b[22m\u001b[22m  \u001b[34m\u001b[22m\u001b[1min \u001b[39m\u001b[22m\u001b[22m(0,) }\n",
       "              { \u001b[34m\u001b[22m\u001b[1mlambda \u001b[39m\u001b[22m\u001b[22m; by\u001b[35m:i32[3]\u001b[39m bz\u001b[35m:i32[9]\u001b[39m. \u001b[34m\u001b[22m\u001b[1mlet\n",
       "                  \u001b[39m\u001b[22m\u001b[22mca\u001b[35m:i32[1]\u001b[39m = slice[\n",
       "                    limit_indices=(1,)\n",
       "                    start_indices=(0,)\n",
       "                    strides=None\n",
       "                  ] by\n",
       "                  cb\u001b[35m:i32[]\u001b[39m = squeeze[dimensions=(0,)] ca\n",
       "                  cc\u001b[35m:bool[]\u001b[39m = lt cb 0\n",
       "                  cd\u001b[35m:i32[]\u001b[39m = add cb 9\n",
       "                  ce\u001b[35m:i32[]\u001b[39m = select_n cc cb cd\n",
       "                  cf\u001b[35m:i32[1]\u001b[39m = dynamic_slice[slice_sizes=(1,)] bz ce\n",
       "                  cg\u001b[35m:i32[]\u001b[39m = squeeze[dimensions=(0,)] cf\n",
       "                \u001b[34m\u001b[22m\u001b[1min \u001b[39m\u001b[22m\u001b[22m(cg,) }\n",
       "            )\n",
       "          ] bu f d\n",
       "          ch\u001b[35m:i32[]\u001b[39m = convert_element_type[new_dtype=int32 weak_type=False] e\n",
       "          ci\u001b[35m:i32[]\u001b[39m = max ch bv\n",
       "        \u001b[34m\u001b[22m\u001b[1min \u001b[39m\u001b[22m\u001b[22m(ci,) }\n",
       "      length=8\n",
       "      linear=(False, False, False)\n",
       "      num_carry=1\n",
       "      num_consts=1\n",
       "      reverse=False\n",
       "      unroll=1\n",
       "    ] b 0 a\n",
       "  \u001b[34m\u001b[22m\u001b[1min \u001b[39m\u001b[22m\u001b[22m(c,) }"
      ]
     },
     "execution_count": 17,
     "metadata": {},
     "output_type": "execute_result"
    }
   ],
   "source": [
    "jax.make_jaxpr(check_win1)(np.array([1, 1, 1, 0, 0, 0, 0, 0, 0]))"
   ]
  },
  {
   "cell_type": "code",
   "execution_count": null,
   "metadata": {},
   "outputs": [
    {
     "data": {
      "text/plain": [
       "{ \u001b[34m\u001b[22m\u001b[1mlambda \u001b[39m\u001b[22m\u001b[22ma\u001b[35m:i32[1]\u001b[39m b\u001b[35m:i32[1]\u001b[39m; c\u001b[35m:i32[9]\u001b[39m. \u001b[34m\u001b[22m\u001b[1mlet\n",
       "    \u001b[39m\u001b[22m\u001b[22md\u001b[35m:i32[3,3]\u001b[39m = reshape[dimensions=None new_sizes=(3, 3)] c\n",
       "    e\u001b[35m:bool[1]\u001b[39m = lt a 0\n",
       "    f\u001b[35m:i32[1]\u001b[39m = add a 3\n",
       "    g\u001b[35m:i32[1]\u001b[39m = select_n e a f\n",
       "    h\u001b[35m:i32[1,1]\u001b[39m = broadcast_in_dim[broadcast_dimensions=(0,) shape=(1, 1)] g\n",
       "    i\u001b[35m:i32[3,1]\u001b[39m = gather[\n",
       "      dimension_numbers=GatherDimensionNumbers(offset_dims=(0,), collapsed_slice_dims=(1,), start_index_map=(1,), operand_batching_dims=(), start_indices_batching_dims=())\n",
       "      fill_value=None\n",
       "      indices_are_sorted=False\n",
       "      mode=GatherScatterMode.PROMISE_IN_BOUNDS\n",
       "      slice_sizes=(3, 1)\n",
       "      unique_indices=False\n",
       "    ] d h\n",
       "    j\u001b[35m:bool[3,3]\u001b[39m = eq d i\n",
       "    k\u001b[35m:bool[3]\u001b[39m = reduce_and[axes=(1,)] j\n",
       "    l\u001b[35m:i32[3,1]\u001b[39m = slice[limit_indices=(3, 1) start_indices=(0, 0) strides=None] d\n",
       "    m\u001b[35m:i32[3]\u001b[39m = squeeze[dimensions=(1,)] l\n",
       "    n\u001b[35m:bool[3]\u001b[39m = ne m 0\n",
       "    o\u001b[35m:bool[3]\u001b[39m = and k n\n",
       "    p\u001b[35m:i32[3,1]\u001b[39m = slice[limit_indices=(3, 1) start_indices=(0, 0) strides=None] d\n",
       "    q\u001b[35m:i32[3]\u001b[39m = squeeze[dimensions=(1,)] p\n",
       "    r\u001b[35m:i32[3]\u001b[39m = convert_element_type[new_dtype=int32 weak_type=False] o\n",
       "    s\u001b[35m:i32[3]\u001b[39m = mul q r\n",
       "    t\u001b[35m:bool[1]\u001b[39m = lt b 0\n",
       "    u\u001b[35m:i32[1]\u001b[39m = add b 3\n",
       "    v\u001b[35m:i32[1]\u001b[39m = select_n t b u\n",
       "    w\u001b[35m:i32[1,1]\u001b[39m = broadcast_in_dim[broadcast_dimensions=(0,) shape=(1, 1)] v\n",
       "    x\u001b[35m:i32[1,3]\u001b[39m = gather[\n",
       "      dimension_numbers=GatherDimensionNumbers(offset_dims=(1,), collapsed_slice_dims=(0,), start_index_map=(0,), operand_batching_dims=(), start_indices_batching_dims=())\n",
       "      fill_value=None\n",
       "      indices_are_sorted=False\n",
       "      mode=GatherScatterMode.PROMISE_IN_BOUNDS\n",
       "      slice_sizes=(1, 3)\n",
       "      unique_indices=False\n",
       "    ] d w\n",
       "    y\u001b[35m:bool[3,3]\u001b[39m = eq d x\n",
       "    z\u001b[35m:bool[3]\u001b[39m = reduce_and[axes=(0,)] y\n",
       "    ba\u001b[35m:i32[1,3]\u001b[39m = slice[limit_indices=(1, 3) start_indices=(0, 0) strides=None] d\n",
       "    bb\u001b[35m:i32[3]\u001b[39m = squeeze[dimensions=(0,)] ba\n",
       "    bc\u001b[35m:bool[3]\u001b[39m = ne bb 0\n",
       "    bd\u001b[35m:bool[3]\u001b[39m = and z bc\n",
       "    be\u001b[35m:i32[1,3]\u001b[39m = slice[limit_indices=(1, 3) start_indices=(0, 0) strides=None] d\n",
       "    bf\u001b[35m:i32[3]\u001b[39m = squeeze[dimensions=(0,)] be\n",
       "    bg\u001b[35m:i32[3]\u001b[39m = convert_element_type[new_dtype=int32 weak_type=False] bd\n",
       "    bh\u001b[35m:i32[3]\u001b[39m = mul bf bg\n",
       "    bi\u001b[35m:i32[1,1]\u001b[39m = slice[limit_indices=(1, 1) start_indices=(0, 0) strides=None] d\n",
       "    bj\u001b[35m:i32[]\u001b[39m = squeeze[dimensions=(0, 1)] bi\n",
       "    bk\u001b[35m:bool[]\u001b[39m = ne bj 0\n",
       "    bl\u001b[35m:i32[1,1]\u001b[39m = slice[limit_indices=(1, 1) start_indices=(0, 0) strides=None] d\n",
       "    bm\u001b[35m:i32[]\u001b[39m = squeeze[dimensions=(0, 1)] bl\n",
       "    bn\u001b[35m:i32[1,1]\u001b[39m = slice[limit_indices=(2, 2) start_indices=(1, 1) strides=None] d\n",
       "    bo\u001b[35m:i32[]\u001b[39m = squeeze[dimensions=(0, 1)] bn\n",
       "    bp\u001b[35m:bool[]\u001b[39m = eq bm bo\n",
       "    bq\u001b[35m:bool[]\u001b[39m = and bk bp\n",
       "    br\u001b[35m:i32[1,1]\u001b[39m = slice[limit_indices=(1, 1) start_indices=(0, 0) strides=None] d\n",
       "    bs\u001b[35m:i32[]\u001b[39m = squeeze[dimensions=(0, 1)] br\n",
       "    bt\u001b[35m:i32[1,1]\u001b[39m = slice[limit_indices=(3, 3) start_indices=(2, 2) strides=None] d\n",
       "    bu\u001b[35m:i32[]\u001b[39m = squeeze[dimensions=(0, 1)] bt\n",
       "    bv\u001b[35m:bool[]\u001b[39m = eq bs bu\n",
       "    bw\u001b[35m:bool[]\u001b[39m = and bq bv\n",
       "    bx\u001b[35m:i32[1,1]\u001b[39m = slice[limit_indices=(1, 1) start_indices=(0, 0) strides=None] d\n",
       "    by\u001b[35m:i32[]\u001b[39m = squeeze[dimensions=(0, 1)] bx\n",
       "    bz\u001b[35m:i32[]\u001b[39m = convert_element_type[new_dtype=int32 weak_type=False] bw\n",
       "    ca\u001b[35m:i32[]\u001b[39m = mul by bz\n",
       "    cb\u001b[35m:i32[1,1]\u001b[39m = slice[limit_indices=(1, 3) start_indices=(0, 2) strides=None] d\n",
       "    cc\u001b[35m:i32[]\u001b[39m = squeeze[dimensions=(0, 1)] cb\n",
       "    cd\u001b[35m:bool[]\u001b[39m = ne cc 0\n",
       "    ce\u001b[35m:i32[1,1]\u001b[39m = slice[limit_indices=(1, 3) start_indices=(0, 2) strides=None] d\n",
       "    cf\u001b[35m:i32[]\u001b[39m = squeeze[dimensions=(0, 1)] ce\n",
       "    cg\u001b[35m:i32[1,1]\u001b[39m = slice[limit_indices=(2, 2) start_indices=(1, 1) strides=None] d\n",
       "    ch\u001b[35m:i32[]\u001b[39m = squeeze[dimensions=(0, 1)] cg\n",
       "    ci\u001b[35m:bool[]\u001b[39m = eq cf ch\n",
       "    cj\u001b[35m:bool[]\u001b[39m = and cd ci\n",
       "    ck\u001b[35m:i32[1,1]\u001b[39m = slice[limit_indices=(1, 3) start_indices=(0, 2) strides=None] d\n",
       "    cl\u001b[35m:i32[]\u001b[39m = squeeze[dimensions=(0, 1)] ck\n",
       "    cm\u001b[35m:i32[1,1]\u001b[39m = slice[limit_indices=(3, 1) start_indices=(2, 0) strides=None] d\n",
       "    cn\u001b[35m:i32[]\u001b[39m = squeeze[dimensions=(0, 1)] cm\n",
       "    co\u001b[35m:bool[]\u001b[39m = eq cl cn\n",
       "    cp\u001b[35m:bool[]\u001b[39m = and cj co\n",
       "    cq\u001b[35m:i32[1,1]\u001b[39m = slice[limit_indices=(1, 3) start_indices=(0, 2) strides=None] d\n",
       "    cr\u001b[35m:i32[]\u001b[39m = squeeze[dimensions=(0, 1)] cq\n",
       "    cs\u001b[35m:i32[]\u001b[39m = convert_element_type[new_dtype=int32 weak_type=False] cp\n",
       "    ct\u001b[35m:i32[]\u001b[39m = mul cr cs\n",
       "    cu\u001b[35m:i32[]\u001b[39m = reduce_max[axes=(0,)] s\n",
       "    cv\u001b[35m:i32[]\u001b[39m = reduce_max[axes=(0,)] bh\n",
       "    cw\u001b[35m:i32[]\u001b[39m = max ca ct\n",
       "    cx\u001b[35m:i32[]\u001b[39m = max cv cw\n",
       "    cy\u001b[35m:i32[]\u001b[39m = max cu cx\n",
       "  \u001b[34m\u001b[22m\u001b[1min \u001b[39m\u001b[22m\u001b[22m(cy,) }"
      ]
     },
     "execution_count": 18,
     "metadata": {},
     "output_type": "execute_result"
    }
   ],
   "source": [
    "jax.make_jaxpr(check_win2)(np.array([1, 1, 1, 0, 0, 0, 0, 0, 0]))"
   ]
  },
  {
   "cell_type": "code",
   "execution_count": null,
   "metadata": {},
   "outputs": [
    {
     "data": {
      "text/plain": [
       "{ \u001b[34m\u001b[22m\u001b[1mlambda \u001b[39m\u001b[22m\u001b[22ma\u001b[35m:i32[8,3]\u001b[39m; b\u001b[35m:i32[9]\u001b[39m. \u001b[34m\u001b[22m\u001b[1mlet\n",
       "    \u001b[39m\u001b[22m\u001b[22mc\u001b[35m:bool[8,3]\u001b[39m = lt a 0\n",
       "    d\u001b[35m:i32[8,3]\u001b[39m = add a 9\n",
       "    e\u001b[35m:i32[8,3]\u001b[39m = select_n c a d\n",
       "    f\u001b[35m:i32[8,3,1]\u001b[39m = broadcast_in_dim[broadcast_dimensions=(0, 1) shape=(8, 3, 1)] e\n",
       "    g\u001b[35m:i32[8,3]\u001b[39m = gather[\n",
       "      dimension_numbers=GatherDimensionNumbers(offset_dims=(), collapsed_slice_dims=(0,), start_index_map=(0,), operand_batching_dims=(), start_indices_batching_dims=())\n",
       "      fill_value=None\n",
       "      indices_are_sorted=False\n",
       "      mode=GatherScatterMode.PROMISE_IN_BOUNDS\n",
       "      slice_sizes=(1,)\n",
       "      unique_indices=False\n",
       "    ] b f\n",
       "    h\u001b[35m:i32[8,1]\u001b[39m = slice[limit_indices=(8, 1) start_indices=(0, 0) strides=None] g\n",
       "    i\u001b[35m:i32[8]\u001b[39m = squeeze[dimensions=(1,)] h\n",
       "    j\u001b[35m:i32[8,1]\u001b[39m = slice[limit_indices=(8, 2) start_indices=(0, 1) strides=None] g\n",
       "    k\u001b[35m:i32[8]\u001b[39m = squeeze[dimensions=(1,)] j\n",
       "    l\u001b[35m:bool[8]\u001b[39m = eq i k\n",
       "    m\u001b[35m:i32[8,1]\u001b[39m = slice[limit_indices=(8, 2) start_indices=(0, 1) strides=None] g\n",
       "    n\u001b[35m:i32[8]\u001b[39m = squeeze[dimensions=(1,)] m\n",
       "    o\u001b[35m:i32[8,1]\u001b[39m = slice[limit_indices=(8, 3) start_indices=(0, 2) strides=None] g\n",
       "    p\u001b[35m:i32[8]\u001b[39m = squeeze[dimensions=(1,)] o\n",
       "    q\u001b[35m:bool[8]\u001b[39m = eq n p\n",
       "    r\u001b[35m:bool[8]\u001b[39m = and l q\n",
       "    s\u001b[35m:i32[8,1]\u001b[39m = slice[limit_indices=(8, 1) start_indices=(0, 0) strides=None] g\n",
       "    t\u001b[35m:i32[8]\u001b[39m = squeeze[dimensions=(1,)] s\n",
       "    u\u001b[35m:bool[8]\u001b[39m = ne t 0\n",
       "    v\u001b[35m:bool[8]\u001b[39m = and r u\n",
       "    w\u001b[35m:i32[8,1]\u001b[39m = slice[limit_indices=(8, 1) start_indices=(0, 0) strides=None] g\n",
       "    x\u001b[35m:i32[8]\u001b[39m = squeeze[dimensions=(1,)] w\n",
       "    y\u001b[35m:i32[8]\u001b[39m = convert_element_type[new_dtype=int32 weak_type=False] v\n",
       "    z\u001b[35m:i32[8]\u001b[39m = mul x y\n",
       "    ba\u001b[35m:i32[]\u001b[39m = reduce_max[axes=(0,)] z\n",
       "  \u001b[34m\u001b[22m\u001b[1min \u001b[39m\u001b[22m\u001b[22m(ba,) }"
      ]
     },
     "execution_count": 19,
     "metadata": {},
     "output_type": "execute_result"
    }
   ],
   "source": [
    "jax.make_jaxpr(check_win4)(np.array([1, 1, 1, 0, 0, 0, 0, 0, 0]))"
   ]
  },
  {
   "cell_type": "code",
   "execution_count": null,
   "metadata": {},
   "outputs": [],
   "source": [
    "def benchmark_empty():\n",
    "    key, rng = jax.random.split(jax.random.PRNGKey(0), 2)\n",
    "    for _ in range(5):\n",
    "        key, rng = jax.random.split(key, 2)\n",
    "        board=jax.random.randint(rng, (9,), 0, 3)\n",
    "\n",
    "def benchmark_np_empty():\n",
    "    for _ in range(5):\n",
    "        board = np.random.randint(0, 3, 9)\n",
    "\n",
    "@functools.partial(jax.jit, static_argnums=(0,))\n",
    "def benchmark_jax_emtpy(func):\n",
    "    key, rng = jax.random.split(jax.random.PRNGKey(0), 2)\n",
    "    for _ in range(5):\n",
    "        key, rng = jax.random.split(key, 2)\n",
    "        board= jax.random.randint(rng, (9,), 0, 3)\n",
    "\n",
    "@numba.njit\n",
    "def benchmark_numba_empty():\n",
    "    for _ in range(5):\n",
    "        board = np.random.randint(0, 3, 9)"
   ]
  },
  {
   "cell_type": "code",
   "execution_count": null,
   "metadata": {},
   "outputs": [
    {
     "name": "stdout",
     "output_type": "stream",
     "text": [
      "730 μs ± 17.2 μs per loop (mean ± std. dev. of 7 runs, 1,000 loops each)\n",
      "27.4 μs ± 613 ns per loop (mean ± std. dev. of 7 runs, 10,000 loops each)\n",
      "2.44 μs ± 110 ns per loop (mean ± std. dev. of 7 runs, 100,000 loops each)\n",
      "The slowest run took 9.56 times longer than the fastest. This could mean that an intermediate result is being cached.\n",
      "2.59 μs ± 2.51 μs per loop (mean ± std. dev. of 7 runs, 1 loop each)\n"
     ]
    }
   ],
   "source": [
    "%timeit benchmark_empty()\n",
    "%timeit benchmark_np_empty()\n",
    "%timeit benchmark_jax_emtpy(benchmark_empty)\n",
    "%timeit benchmark_numba_empty()"
   ]
  },
  {
   "cell_type": "code",
   "execution_count": null,
   "metadata": {},
   "outputs": [],
   "source": [
    "# jax.profiler.start_server(port=6007)\n",
    "# with jax.profiler.trace('jax_trace', create_perfetto_link=True):\n",
    "#     key, rng = jax.random.split(jax.random.PRNGKey(0), 2)\n",
    "#     for _ in range(1000):\n",
    "#         key, rng = jax.random.split(key, 2)\n",
    "#         board= jax.random.randint(rng, (9,), 0, 3)\n",
    "#         jit_check_win4(board)"
   ]
  }
 ],
 "metadata": {
  "kernelspec": {
   "display_name": ".venv",
   "language": "python",
   "name": "python3"
  },
  "language_info": {
   "codemirror_mode": {
    "name": "ipython",
    "version": 3
   },
   "file_extension": ".py",
   "mimetype": "text/x-python",
   "name": "python",
   "nbconvert_exporter": "python",
   "pygments_lexer": "ipython3",
   "version": "3.11.4"
  }
 },
 "nbformat": 4,
 "nbformat_minor": 2
}
