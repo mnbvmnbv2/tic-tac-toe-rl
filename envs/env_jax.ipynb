{
 "cells": [
  {
   "cell_type": "code",
   "execution_count": 1,
   "metadata": {},
   "outputs": [],
   "source": [
    "import jax\n",
    "import jax.numpy as jnp\n",
    "from jax import lax\n",
    "import time"
   ]
  },
  {
   "cell_type": "code",
   "execution_count": 2,
   "metadata": {},
   "outputs": [],
   "source": [
    "# Win conditions defined as indices on the board\n",
    "def check_win1(board: jnp.ndarray) -> int:\n",
    "    win_conditions = jnp.array(\n",
    "        [\n",
    "            (0, 1, 2),\n",
    "            (3, 4, 5),\n",
    "            (6, 7, 8),\n",
    "            (0, 3, 6),\n",
    "            (1, 4, 8),\n",
    "            (2, 5, 8),\n",
    "            (0, 4, 8),\n",
    "            (2, 4, 6),\n",
    "        ],\n",
    "        dtype=jnp.int32,\n",
    "    )\n",
    "\n",
    "    def check_line(winner, line):\n",
    "        line_win = lax.cond(\n",
    "            (board[line[0]] == board[line[1]])\n",
    "            & (board[line[1]] == board[line[2]])\n",
    "            & (board[line[0]] != 0),\n",
    "            lambda: board[line[0]].astype(jnp.int32),  # Ensuring int32 output\n",
    "            lambda: jnp.array(0, dtype=jnp.int32),  # Ensuring int32 output\n",
    "        )\n",
    "        return jnp.maximum(winner, line_win), None\n",
    "\n",
    "    # Use `jnp.array(0)` as the initial carry value, which represents \"no winner\"\n",
    "    winner, _ = lax.scan(check_line, jnp.array(0), win_conditions)\n",
    "    return winner  # Returns 1 if player wins, 2 if opponent wins, 0 otherwise"
   ]
  },
  {
   "cell_type": "code",
   "execution_count": 3,
   "metadata": {},
   "outputs": [],
   "source": [
    "def check_win2(board: jnp.ndarray) -> int:\n",
    "    reshaped_state = board.reshape(3, 3)\n",
    "    # 0 for tie, 1 for player 1, 2 for player 2\n",
    "    # Check for row-wise winners\n",
    "    rows_equal = jnp.all(reshaped_state == reshaped_state[:, [0]], axis=1) & (\n",
    "        reshaped_state[:, 0] != 0\n",
    "    )\n",
    "    row_winners = reshaped_state[:, 0] * rows_equal\n",
    "\n",
    "    # Check for column-wise winners\n",
    "    cols_equal = jnp.all(reshaped_state == reshaped_state[[0], :], axis=0) & (\n",
    "        reshaped_state[0, :] != 0\n",
    "    )\n",
    "    col_winners = reshaped_state[0, :] * cols_equal\n",
    "\n",
    "    # Check for diagonal winners\n",
    "    diagonal_1 = (\n",
    "        (reshaped_state[0, 0] != 0)\n",
    "        & (reshaped_state[0, 0] == reshaped_state[1, 1])\n",
    "        & (reshaped_state[0, 0] == reshaped_state[2, 2])\n",
    "    )\n",
    "    diagonal_1_winners = reshaped_state[0, 0] * diagonal_1\n",
    "\n",
    "    diagonal_2 = (\n",
    "        (reshaped_state[0, 2] != 0)\n",
    "        & (reshaped_state[0, 2] == reshaped_state[1, 1])\n",
    "        & (reshaped_state[0, 2] == reshaped_state[2, 0])\n",
    "    )\n",
    "    diagonal_2_winners = reshaped_state[0, 2] * diagonal_2\n",
    "\n",
    "    # Return the maximum winner (1 for player 1, 2 for player 2, 0 for no winner)\n",
    "    return jnp.maximum(\n",
    "        row_winners.max(),\n",
    "        jnp.maximum(\n",
    "            col_winners.max(),\n",
    "            jnp.maximum(diagonal_1_winners, diagonal_2_winners),\n",
    "        ),\n",
    "    )"
   ]
  },
  {
   "cell_type": "code",
   "execution_count": 4,
   "metadata": {},
   "outputs": [],
   "source": [
    "def benchmark(func):\n",
    "    key, rng = jax.random.split(jax.random.PRNGKey(0), 2)\n",
    "    for _ in range(5):\n",
    "        key, rng = jax.random.split(key, 2)\n",
    "        board= jax.random.randint(rng, (9,), 0, 3)\n",
    "        func(board)"
   ]
  },
  {
   "cell_type": "code",
   "execution_count": 7,
   "metadata": {},
   "outputs": [
    {
     "data": {
      "text/plain": [
       "Array(1, dtype=int32)"
      ]
     },
     "execution_count": 7,
     "metadata": {},
     "output_type": "execute_result"
    }
   ],
   "source": [
    "jit_check_win1 = jax.jit(check_win1)\n",
    "jit_check_win2 = jax.jit(check_win2)\n",
    "jit_check_win1(jnp.array([1, 1, 1, 0, 0, 0, 0, 0, 0]))\n",
    "jit_check_win2(jnp.array([1, 1, 1, 0, 0, 0, 0, 0, 0]))"
   ]
  },
  {
   "cell_type": "code",
   "execution_count": 8,
   "metadata": {},
   "outputs": [
    {
     "name": "stdout",
     "output_type": "stream",
     "text": [
      "227 ms ± 9.19 ms per loop (mean ± std. dev. of 7 runs, 1 loop each)\n",
      "767 μs ± 2.74 μs per loop (mean ± std. dev. of 7 runs, 1,000 loops each)\n",
      "14.8 ms ± 537 μs per loop (mean ± std. dev. of 7 runs, 1 loop each)\n",
      "766 μs ± 3.62 μs per loop (mean ± std. dev. of 7 runs, 1,000 loops each)\n"
     ]
    }
   ],
   "source": [
    "%timeit benchmark(check_win1)\n",
    "%timeit benchmark(jit_check_win1)\n",
    "%timeit benchmark(check_win2)\n",
    "%timeit benchmark(jit_check_win2)"
   ]
  }
 ],
 "metadata": {
  "kernelspec": {
   "display_name": ".venv",
   "language": "python",
   "name": "python3"
  },
  "language_info": {
   "codemirror_mode": {
    "name": "ipython",
    "version": 3
   },
   "file_extension": ".py",
   "mimetype": "text/x-python",
   "name": "python",
   "nbconvert_exporter": "python",
   "pygments_lexer": "ipython3",
   "version": "3.11.4"
  }
 },
 "nbformat": 4,
 "nbformat_minor": 2
}
