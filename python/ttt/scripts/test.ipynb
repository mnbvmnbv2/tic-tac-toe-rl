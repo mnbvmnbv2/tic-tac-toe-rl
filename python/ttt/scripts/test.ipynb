{
 "cells": [
  {
   "cell_type": "code",
   "execution_count": null,
   "metadata": {},
   "outputs": [],
   "source": [
    "import python_bindings"
   ]
  },
  {
   "cell_type": "code",
   "execution_count": null,
   "metadata": {},
   "outputs": [],
   "source": [
    "python_bindings.greet(\"a\")"
   ]
  },
  {
   "cell_type": "code",
   "execution_count": null,
   "metadata": {},
   "outputs": [],
   "source": [
    "a = 0x1000\n",
    "b = 0x1010\n",
    "bin(a & b)"
   ]
  },
  {
   "cell_type": "code",
   "execution_count": null,
   "metadata": {},
   "outputs": [],
   "source": [
    "import numpy as np"
   ]
  },
  {
   "cell_type": "code",
   "execution_count": null,
   "metadata": {},
   "outputs": [],
   "source": [
    "rng = np.random.default_rng()\n",
    "reshaped_state = rng.integers(0, 3, size=(4, 3, 3))\n",
    "reshaped_state"
   ]
  },
  {
   "cell_type": "markdown",
   "metadata": {},
   "source": [
    "### JAX speedup"
   ]
  },
  {
   "cell_type": "code",
   "execution_count": null,
   "metadata": {},
   "outputs": [],
   "source": [
    "import jax\n",
    "import jax.numpy as jnp\n",
    "\n",
    "def check_win(state) -> int:\n",
    "    reshaped_state = state.reshape(3, 3)  # Reshape the state into a 2D (3x3) array\n",
    "    # Check for row-wise winners\n",
    "    rows_equal = jnp.all(reshaped_state == reshaped_state[:, [0]], axis=1) & (\n",
    "        reshaped_state[:, 0] != 0\n",
    "    )\n",
    "    row_winners = reshaped_state[:, 0] * rows_equal\n",
    "    \n",
    "    # Check for column-wise winners\n",
    "    cols_equal = jnp.all(reshaped_state == reshaped_state[[0], :], axis=0) & (\n",
    "        reshaped_state[0, :] != 0\n",
    "    )\n",
    "    col_winners = reshaped_state[0, :] * cols_equal\n",
    "    \n",
    "    # Check for diagonal winners\n",
    "    diagonal_1 = (\n",
    "        (reshaped_state[0, 0] != 0)\n",
    "        & (reshaped_state[0, 0] == reshaped_state[1, 1])\n",
    "        & (reshaped_state[0, 0] == reshaped_state[2, 2])\n",
    "    )\n",
    "    diagonal_1_winners = reshaped_state[0, 0] * diagonal_1\n",
    "    \n",
    "    diagonal_2 = (\n",
    "        (reshaped_state[0, 2] != 0)\n",
    "        & (reshaped_state[0, 2] == reshaped_state[1, 1])\n",
    "        & (reshaped_state[0, 2] == reshaped_state[2, 0])\n",
    "    )\n",
    "    diagonal_2_winners = reshaped_state[0, 2] * diagonal_2\n",
    "\n",
    "    # Return the maximum winner (1 for player 1, 2 for player 2, 0 for no winner)\n",
    "    return jnp.maximum(\n",
    "        row_winners.max(),\n",
    "        jnp.maximum(\n",
    "            col_winners.max(),\n",
    "            jnp.maximum(diagonal_1_winners, diagonal_2_winners),\n",
    "        ),\n",
    "    )\n",
    "\n",
    "# JIT-compiled version\n",
    "check_win_jit = jax.jit(check_win)"
   ]
  },
  {
   "cell_type": "code",
   "execution_count": null,
   "metadata": {},
   "outputs": [],
   "source": [
    "def check_non_jit(rng, n=10):\n",
    "    for _ in range(n):\n",
    "        rng, _ = jax.random.split(rng)\n",
    "        state = jax.random.randint(rng, (9,), 0, 3)\n",
    "        check_win(state)\n",
    "\n",
    "def check_jit(rng, n=10):\n",
    "    for _ in range(n):\n",
    "        rng, _ = jax.random.split(rng)\n",
    "        state = jax.random.randint(rng, (9,), 0, 3)\n",
    "        check_win_jit(state)"
   ]
  },
  {
   "cell_type": "code",
   "execution_count": null,
   "metadata": {},
   "outputs": [],
   "source": [
    "%timeit check_non_jit(jax.random.PRNGKey(np.random.randint(2**31)))"
   ]
  },
  {
   "cell_type": "code",
   "execution_count": null,
   "metadata": {},
   "outputs": [],
   "source": [
    "%timeit check_jit(jax.random.PRNGKey(np.random.randint(2**31)))"
   ]
  }
 ],
 "metadata": {
  "kernelspec": {
   "display_name": ".venv",
   "language": "python",
   "name": "python3"
  },
  "language_info": {
   "codemirror_mode": {
    "name": "ipython",
    "version": 3
   },
   "file_extension": ".py",
   "mimetype": "text/x-python",
   "name": "python",
   "nbconvert_exporter": "python",
   "pygments_lexer": "ipython3",
   "version": "3.11.6"
  }
 },
 "nbformat": 4,
 "nbformat_minor": 2
}
