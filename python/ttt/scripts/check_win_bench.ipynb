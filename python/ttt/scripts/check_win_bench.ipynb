{
 "cells": [
  {
   "cell_type": "code",
   "execution_count": null,
   "metadata": {},
   "outputs": [],
   "source": [
    "import jax\n",
    "import jax.numpy as jnp\n",
    "from jax import lax\n",
    "import time\n",
    "import numpy as np\n",
    "import numba\n",
    "import functools\n",
    "from ttt.cython.c_tictactoe import check_winner"
   ]
  },
  {
   "cell_type": "code",
   "execution_count": null,
   "metadata": {},
   "outputs": [],
   "source": [
    "# Win conditions defined as indices on the board\n",
    "def check_win1(board: jnp.ndarray) -> int:\n",
    "    win_conditions = jnp.array(\n",
    "        [\n",
    "            (0, 1, 2),\n",
    "            (3, 4, 5),\n",
    "            (6, 7, 8),\n",
    "            (0, 3, 6),\n",
    "            (1, 4, 8),\n",
    "            (2, 5, 8),\n",
    "            (0, 4, 8),\n",
    "            (2, 4, 6),\n",
    "        ],\n",
    "        dtype=jnp.int32,\n",
    "    )\n",
    "\n",
    "    def check_line(winner, line):\n",
    "        line_win = lax.cond(\n",
    "            (board[line[0]] == board[line[1]])\n",
    "            & (board[line[1]] == board[line[2]])\n",
    "            & (board[line[0]] != 0),\n",
    "            lambda: board[line[0]].astype(jnp.int32),  # Ensuring int32 output\n",
    "            lambda: jnp.array(0, dtype=jnp.int32),  # Ensuring int32 output\n",
    "        )\n",
    "        return jnp.maximum(winner, line_win), None\n",
    "\n",
    "    # Use `jnp.array(0)` as the initial carry value, which represents \"no winner\"\n",
    "    winner, _ = lax.scan(check_line, jnp.array(0), win_conditions)\n",
    "    return winner  # Returns 1 if player wins, 2 if opponent wins, 0 otherwise"
   ]
  },
  {
   "cell_type": "code",
   "execution_count": null,
   "metadata": {},
   "outputs": [],
   "source": [
    "def check_win2(board: jnp.ndarray) -> int:\n",
    "    reshaped_state = board.reshape(3, 3)\n",
    "    # 0 for tie, 1 for player 1, 2 for player 2\n",
    "    # Check for row-wise winners\n",
    "    rows_equal = jnp.all(reshaped_state == reshaped_state[:, [0]], axis=1) & (\n",
    "        reshaped_state[:, 0] != 0\n",
    "    )\n",
    "    row_winners = reshaped_state[:, 0] * rows_equal\n",
    "\n",
    "    # Check for column-wise winners\n",
    "    cols_equal = jnp.all(reshaped_state == reshaped_state[[0], :], axis=0) & (\n",
    "        reshaped_state[0, :] != 0\n",
    "    )\n",
    "    col_winners = reshaped_state[0, :] * cols_equal\n",
    "\n",
    "    # Check for diagonal winners\n",
    "    diagonal_1 = (\n",
    "        (reshaped_state[0, 0] != 0)\n",
    "        & (reshaped_state[0, 0] == reshaped_state[1, 1])\n",
    "        & (reshaped_state[0, 0] == reshaped_state[2, 2])\n",
    "    )\n",
    "    diagonal_1_winners = reshaped_state[0, 0] * diagonal_1\n",
    "\n",
    "    diagonal_2 = (\n",
    "        (reshaped_state[0, 2] != 0)\n",
    "        & (reshaped_state[0, 2] == reshaped_state[1, 1])\n",
    "        & (reshaped_state[0, 2] == reshaped_state[2, 0])\n",
    "    )\n",
    "    diagonal_2_winners = reshaped_state[0, 2] * diagonal_2\n",
    "\n",
    "    # Return the maximum winner (1 for player 1, 2 for player 2, 0 for no winner)\n",
    "    return jnp.maximum(\n",
    "        row_winners.max(),\n",
    "        jnp.maximum(\n",
    "            col_winners.max(),\n",
    "            jnp.maximum(diagonal_1_winners, diagonal_2_winners),\n",
    "        ),\n",
    "    )"
   ]
  },
  {
   "cell_type": "code",
   "execution_count": null,
   "metadata": {},
   "outputs": [],
   "source": [
    "def check_win2_np(board: np.ndarray) -> int:\n",
    "    reshaped_state = board.reshape(3, 3)\n",
    "    # 0 for tie, 1 for player 1, 2 for player 2\n",
    "    # Check for row-wise winners\n",
    "    rows_equal = np.all(reshaped_state == reshaped_state[:, [0]], axis=1) & (\n",
    "        reshaped_state[:, 0] != 0\n",
    "    )\n",
    "    row_winners = reshaped_state[:, 0] * rows_equal\n",
    "\n",
    "    # Check for column-wise winners\n",
    "    cols_equal = np.all(reshaped_state == reshaped_state[[0], :], axis=0) & (\n",
    "        reshaped_state[0, :] != 0\n",
    "    )\n",
    "    col_winners = reshaped_state[0, :] * cols_equal\n",
    "\n",
    "    # Check for diagonal winners\n",
    "    diagonal_1 = (\n",
    "        (reshaped_state[0, 0] != 0)\n",
    "        & (reshaped_state[0, 0] == reshaped_state[1, 1])\n",
    "        & (reshaped_state[0, 0] == reshaped_state[2, 2])\n",
    "    )\n",
    "    diagonal_1_winners = reshaped_state[0, 0] * diagonal_1\n",
    "\n",
    "    diagonal_2 = (\n",
    "        (reshaped_state[0, 2] != 0)\n",
    "        & (reshaped_state[0, 2] == reshaped_state[1, 1])\n",
    "        & (reshaped_state[0, 2] == reshaped_state[2, 0])\n",
    "    )\n",
    "    diagonal_2_winners = reshaped_state[0, 2] * diagonal_2\n",
    "\n",
    "    # Return the maximum winner (1 for player 1, 2 for player 2, 0 for no winner)\n",
    "    return max(\n",
    "        row_winners.max(),\n",
    "        max(\n",
    "            col_winners.max(),\n",
    "            max(diagonal_1_winners, diagonal_2_winners),\n",
    "        ),\n",
    "    )"
   ]
  },
  {
   "cell_type": "code",
   "execution_count": null,
   "metadata": {},
   "outputs": [],
   "source": [
    "def check_win3(board: jnp.ndarray) -> int:\n",
    "    # 0 for tie, 1 for player 1, 2 for player 2\n",
    "    reshaped_state = board.reshape(3, 3)\n",
    "    # rows\n",
    "    rows_equal = jnp.all(reshaped_state == reshaped_state[:, [0]], axis=1) & (\n",
    "        reshaped_state[:, 0] != 0\n",
    "    )\n",
    "    if jnp.any(rows_equal):\n",
    "        return reshaped_state[rows_equal][0, 0]\n",
    "    # columns\n",
    "    cols_equal = jnp.all(reshaped_state == reshaped_state[[0], :], axis=0) & (\n",
    "        reshaped_state[0, :] != 0\n",
    "    )\n",
    "    if jnp.any(cols_equal):\n",
    "        return reshaped_state[0, cols_equal][0]\n",
    "    # diagonals\n",
    "    if reshaped_state[0, 0] == reshaped_state[1, 1] == reshaped_state[2, 2] != 0:\n",
    "        return reshaped_state[0, 0]\n",
    "    if reshaped_state[2, 0] == reshaped_state[1, 1] == reshaped_state[0, 2] != 0:\n",
    "        return reshaped_state[2, 0]\n",
    "    return 0"
   ]
  },
  {
   "cell_type": "code",
   "execution_count": null,
   "metadata": {},
   "outputs": [],
   "source": [
    "def check_win3_np(board: np.ndarray) -> int:\n",
    "    # 0 for tie, 1 for player 1, 2 for player 2\n",
    "    reshaped_state = board.reshape(3, 3)\n",
    "    # rows\n",
    "    rows_equal = np.all(reshaped_state == reshaped_state[:, [0]], axis=1) & (\n",
    "        reshaped_state[:, 0] != 0\n",
    "    )\n",
    "    if np.any(rows_equal):\n",
    "        return reshaped_state[rows_equal][0, 0]\n",
    "    # columns\n",
    "    cols_equal = np.all(reshaped_state == reshaped_state[[0], :], axis=0) & (\n",
    "        reshaped_state[0, :] != 0\n",
    "    )\n",
    "    if np.any(cols_equal):\n",
    "        return reshaped_state[0, cols_equal][0]\n",
    "    # diagonals\n",
    "    if reshaped_state[0, 0] == reshaped_state[1, 1] == reshaped_state[2, 2] != 0:\n",
    "        return reshaped_state[0, 0]\n",
    "    if reshaped_state[2, 0] == reshaped_state[1, 1] == reshaped_state[0, 2] != 0:\n",
    "        return reshaped_state[2, 0]\n",
    "    return 0"
   ]
  },
  {
   "cell_type": "code",
   "execution_count": null,
   "metadata": {},
   "outputs": [],
   "source": [
    "@numba.njit\n",
    "def check_win3_numba(board: np.ndarray) -> int:\n",
    "    # Reshape the board\n",
    "    reshaped_state = board.reshape(3, 3)\n",
    "    \n",
    "    # Check rows\n",
    "    for row in range(3):\n",
    "        if reshaped_state[row, 0] != 0 and reshaped_state[row, 0] == reshaped_state[row, 1] == reshaped_state[row, 2]:\n",
    "            return reshaped_state[row, 0]\n",
    "    \n",
    "    # Check columns\n",
    "    for col in range(3):\n",
    "        if reshaped_state[0, col] != 0 and reshaped_state[0, col] == reshaped_state[1, col] == reshaped_state[2, col]:\n",
    "            return reshaped_state[0, col]\n",
    "    \n",
    "    # Check diagonals\n",
    "    if reshaped_state[0, 0] != 0 and reshaped_state[0, 0] == reshaped_state[1, 1] == reshaped_state[2, 2]:\n",
    "        return reshaped_state[0, 0]\n",
    "    if reshaped_state[2, 0] != 0 and reshaped_state[2, 0] == reshaped_state[1, 1] == reshaped_state[0, 2]:\n",
    "        return reshaped_state[2, 0]\n",
    "    \n",
    "    # No winner\n",
    "    return 0"
   ]
  },
  {
   "cell_type": "code",
   "execution_count": null,
   "metadata": {},
   "outputs": [],
   "source": [
    "def check_win4(board: jnp.ndarray) -> int:\n",
    "    win_conditions = jnp.array(\n",
    "        [\n",
    "            [0, 1, 2],  # Rows\n",
    "            [3, 4, 5],\n",
    "            [6, 7, 8],\n",
    "            [0, 3, 6],  # Columns\n",
    "            [1, 4, 7],\n",
    "            [2, 5, 8],\n",
    "            [0, 4, 8],  # Diagonals\n",
    "            [2, 4, 6],\n",
    "        ],\n",
    "        dtype=jnp.int32,\n",
    "    )\n",
    "    # Extract the values at the win conditions\n",
    "    lines = board[win_conditions]  # Shape: (8, 3)\n",
    "\n",
    "    # Check if all elements in a line are the same and not zero\n",
    "    lines_equal = (lines[:, 0] == lines[:, 1]) & (lines[:, 1] == lines[:, 2]) & (lines[:, 0] != 0)\n",
    "\n",
    "    # Get the winner for each line\n",
    "    line_winners = lines[:, 0] * lines_equal  # Winner is lines[:, 0] if line is equal, else zero\n",
    "\n",
    "    # Return the maximum winner (1 or 2 if there's a winner, 0 otherwise)\n",
    "    return jnp.max(line_winners)"
   ]
  },
  {
   "cell_type": "code",
   "execution_count": null,
   "metadata": {},
   "outputs": [],
   "source": [
    "def check_win5(board: jnp.ndarray) -> int:\n",
    "    win_conditions = jnp.array(\n",
    "        [\n",
    "            [0, 1, 2],  # Rows\n",
    "            [3, 4, 5],\n",
    "            [6, 7, 8],\n",
    "            [0, 3, 6],  # Columns\n",
    "            [1, 4, 7],\n",
    "            [2, 5, 8],\n",
    "            [0, 4, 8],  # Diagonals\n",
    "            [2, 4, 6],\n",
    "        ],\n",
    "        dtype=jnp.int32,\n",
    "    )\n",
    "\n",
    "    # Gather the board values at the win condition indices\n",
    "    lines = board[win_conditions]  # Shape: (8, 3)\n",
    "\n",
    "    # Check if all elements in a line are equal and not zero\n",
    "    lines_equal = (lines == lines[:, [0]]) & (lines[:, 0:1] != 0)\n",
    "    winners = lines[:, 0] * jnp.all(lines_equal, axis=1)\n",
    "\n",
    "    # Return the maximum winner (1 or 2 if there's a winner, 0 otherwise)\n",
    "    return jnp.max(winners)"
   ]
  },
  {
   "cell_type": "code",
   "execution_count": null,
   "metadata": {},
   "outputs": [],
   "source": [
    "def benchmark(func):\n",
    "    key, rng = jax.random.split(jax.random.PRNGKey(0), 2)\n",
    "    for _ in range(5):\n",
    "        key, rng = jax.random.split(key, 2)\n",
    "        board= jax.random.randint(rng, (9,), 0, 3)\n",
    "        func(board)\n",
    "\n",
    "def benchmark_np(func):\n",
    "    for _ in range(5):\n",
    "        board = np.random.randint(0, 3, 9)\n",
    "        func(board)\n",
    "\n",
    "@functools.partial(jax.jit, static_argnums=(0,))\n",
    "def benchmark_jax(func):\n",
    "    key, rng = jax.random.split(jax.random.PRNGKey(0), 2)\n",
    "    for _ in range(5):\n",
    "        key, rng = jax.random.split(key, 2)\n",
    "        board= jax.random.randint(rng, (9,), 0, 3)\n",
    "        jax.block_until_ready(func(board))"
   ]
  },
  {
   "cell_type": "code",
   "execution_count": null,
   "metadata": {},
   "outputs": [],
   "source": [
    "jit_check_win1 = jax.jit(check_win1)\n",
    "jit_check_win2 = jax.jit(check_win2)\n",
    "jit_check_win3 = jax.jit(check_win3)\n",
    "jit_check_win4 = jax.jit(check_win4)\n",
    "jit_check_win5 = jax.jit(check_win5)\n",
    "jit_check_win1(jnp.array([1, 1, 1, 0, 0, 0, 0, 0, 0]))\n",
    "jit_check_win2(jnp.array([1, 1, 1, 0, 0, 0, 0, 0, 0]))\n",
    "# jit_check_win3(jnp.array([1, 1, 1, 0, 0, 0, 0, 0, 0]))\n",
    "jit_check_win4(jnp.array([1, 1, 1, 0, 0, 0, 0, 0, 0]))\n",
    "jit_check_win5(jnp.array([1, 1, 1, 0, 0, 0, 0, 0, 0]))"
   ]
  },
  {
   "cell_type": "code",
   "execution_count": null,
   "metadata": {},
   "outputs": [],
   "source": [
    "%timeit benchmark(check_win1)\n",
    "%timeit benchmark(jit_check_win1)\n",
    "%timeit benchmark(check_win2)\n",
    "%timeit benchmark(jit_check_win2)\n",
    "%timeit benchmark(check_win3)\n",
    "%timeit benchmark(check_win4)\n",
    "%timeit benchmark(jit_check_win4)\n",
    "%timeit benchmark(check_win5)\n",
    "%timeit benchmark(jit_check_win5)"
   ]
  },
  {
   "cell_type": "code",
   "execution_count": null,
   "metadata": {},
   "outputs": [],
   "source": [
    "%timeit benchmark_jax(check_win1)\n",
    "%timeit benchmark_jax(jit_check_win1)\n",
    "%timeit benchmark_jax(check_win2)\n",
    "%timeit benchmark_jax(jit_check_win2)\n",
    "%timeit benchmark_jax(check_win4)\n",
    "%timeit benchmark_jax(jit_check_win4)\n",
    "%timeit benchmark_jax(check_win5)\n",
    "%timeit benchmark_jax(jit_check_win5)"
   ]
  },
  {
   "cell_type": "code",
   "execution_count": null,
   "metadata": {},
   "outputs": [],
   "source": [
    "%timeit benchmark_np(check_win2_np)\n",
    "%timeit benchmark_np(check_win3_np)"
   ]
  },
  {
   "cell_type": "code",
   "execution_count": null,
   "metadata": {},
   "outputs": [],
   "source": [
    "check_win3_numba(np.array([1, 1, 1, 0, 0, 0, 0, 0, 0]))"
   ]
  },
  {
   "cell_type": "code",
   "execution_count": null,
   "metadata": {},
   "outputs": [],
   "source": [
    "%timeit benchmark_np(check_win3_numba)"
   ]
  },
  {
   "cell_type": "code",
   "execution_count": null,
   "metadata": {},
   "outputs": [],
   "source": [
    "%timeit benchmark_np(check_winner)"
   ]
  },
  {
   "cell_type": "code",
   "execution_count": null,
   "metadata": {},
   "outputs": [],
   "source": [
    "jax.make_jaxpr(check_win1)(np.array([1, 1, 1, 0, 0, 0, 0, 0, 0]))"
   ]
  },
  {
   "cell_type": "code",
   "execution_count": null,
   "metadata": {},
   "outputs": [],
   "source": [
    "jax.make_jaxpr(check_win2)(np.array([1, 1, 1, 0, 0, 0, 0, 0, 0]))"
   ]
  },
  {
   "cell_type": "code",
   "execution_count": null,
   "metadata": {},
   "outputs": [],
   "source": [
    "jax.make_jaxpr(check_win4)(np.array([1, 1, 1, 0, 0, 0, 0, 0, 0]))"
   ]
  },
  {
   "cell_type": "code",
   "execution_count": null,
   "metadata": {},
   "outputs": [],
   "source": [
    "def benchmark_empty():\n",
    "    key, rng = jax.random.split(jax.random.PRNGKey(0), 2)\n",
    "    for _ in range(5):\n",
    "        key, rng = jax.random.split(key, 2)\n",
    "        board=jax.random.randint(rng, (9,), 0, 3)\n",
    "\n",
    "def benchmark_np_empty():\n",
    "    for _ in range(5):\n",
    "        board = np.random.randint(0, 3, 9)\n",
    "\n",
    "@functools.partial(jax.jit, static_argnums=(0,))\n",
    "def benchmark_jax_emtpy(func):\n",
    "    key, rng = jax.random.split(jax.random.PRNGKey(0), 2)\n",
    "    for _ in range(5):\n",
    "        key, rng = jax.random.split(key, 2)\n",
    "        board= jax.random.randint(rng, (9,), 0, 3)\n",
    "\n",
    "@numba.njit\n",
    "def benchmark_numba_empty():\n",
    "    for _ in range(5):\n",
    "        board = np.random.randint(0, 3, 9)"
   ]
  },
  {
   "cell_type": "code",
   "execution_count": null,
   "metadata": {},
   "outputs": [],
   "source": [
    "%timeit benchmark_empty()\n",
    "%timeit benchmark_np_empty()\n",
    "%timeit benchmark_jax_emtpy(benchmark_empty)\n",
    "%timeit benchmark_numba_empty()"
   ]
  },
  {
   "cell_type": "code",
   "execution_count": null,
   "metadata": {},
   "outputs": [],
   "source": [
    "# jax.profiler.start_server(port=6007)\n",
    "# with jax.profiler.trace('jax_trace', create_perfetto_link=True):\n",
    "#     key, rng = jax.random.split(jax.random.PRNGKey(0), 2)\n",
    "#     for _ in range(1000):\n",
    "#         key, rng = jax.random.split(key, 2)\n",
    "#         board= jax.random.randint(rng, (9,), 0, 3)\n",
    "#         jit_check_win4(board)"
   ]
  }
 ],
 "metadata": {
  "kernelspec": {
   "display_name": ".venv",
   "language": "python",
   "name": "python3"
  },
  "language_info": {
   "codemirror_mode": {
    "name": "ipython",
    "version": 3
   },
   "file_extension": ".py",
   "mimetype": "text/x-python",
   "name": "python",
   "nbconvert_exporter": "python",
   "pygments_lexer": "ipython3",
   "version": "3.11.6"
  }
 },
 "nbformat": 4,
 "nbformat_minor": 2
}
