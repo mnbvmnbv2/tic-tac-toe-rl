{
 "cells": [
  {
   "cell_type": "code",
   "execution_count": 1,
   "metadata": {},
   "outputs": [],
   "source": [
    "from contextlib import contextmanager\n",
    "from dataclasses import dataclass\n",
    "import time\n",
    "\n",
    "import numpy as np\n",
    "import torch\n",
    "import matplotlib.pyplot as plt\n",
    "\n",
    "from c_tictactoe_pvp_py import TicTacToeEnvPy, Settings"
   ]
  },
  {
   "cell_type": "code",
   "execution_count": 2,
   "metadata": {},
   "outputs": [],
   "source": [
    "# random move stuff"
   ]
  },
  {
   "cell_type": "code",
   "execution_count": 3,
   "metadata": {},
   "outputs": [],
   "source": [
    "def random_move(state: np.ndarray) -> int:\n",
    "    # Reshape the first 18 columns into (N, 9, 2)\n",
    "    squares = state[:, :18].reshape(-1, 9, 2)\n",
    "    # A square is free if neither player 0 nor player 1 occupies it\n",
    "    # i.e. both bits == 0\n",
    "    free_squares = ~squares.any(axis=2)  # shape: (N, 9), True where square is (0,0)\n",
    "\n",
    "    # For each row, pick one random free square\n",
    "    moves = np.array([\n",
    "        np.random.choice(np.where(row)[0])    # row has True/False for squares 0..8\n",
    "        for row in free_squares\n",
    "    ], dtype=np.int16)\n",
    "\n",
    "    return moves"
   ]
  },
  {
   "cell_type": "code",
   "execution_count": 4,
   "metadata": {},
   "outputs": [
    {
     "data": {
      "text/plain": [
       "array([[1, 0, 0, 0, 0, 0, 0, 0, 0, 0, 0, 0, 0, 0, 0, 0, 0, 0, 0],\n",
       "       [0, 0, 1, 0, 0, 0, 0, 0, 0, 0, 0, 0, 0, 0, 0, 0, 0, 0, 0],\n",
       "       [1, 0, 1, 0, 0, 0, 0, 0, 0, 0, 0, 0, 0, 0, 0, 0, 0, 0, 0]],\n",
       "      dtype=uint8)"
      ]
     },
     "execution_count": 4,
     "metadata": {},
     "output_type": "execute_result"
    }
   ],
   "source": [
    "s = np.zeros((3, 19), dtype=np.uint8)\n",
    "s[0, 0] = 1\n",
    "s[1, 2] = 1\n",
    "s[2, 0] = 1\n",
    "s[2, 2] = 1\n",
    "s"
   ]
  },
  {
   "cell_type": "code",
   "execution_count": 5,
   "metadata": {},
   "outputs": [
    {
     "data": {
      "text/plain": [
       "array([2, 0, 2], dtype=int64)"
      ]
     },
     "execution_count": 5,
     "metadata": {},
     "output_type": "execute_result"
    }
   ],
   "source": [
    "random_move(s)"
   ]
  },
  {
   "cell_type": "code",
   "execution_count": 6,
   "metadata": {},
   "outputs": [],
   "source": [
    "# stepping stuff"
   ]
  },
  {
   "cell_type": "code",
   "execution_count": 7,
   "metadata": {},
   "outputs": [],
   "source": [
    "def layer_init(layer, std=np.sqrt(2), bias_const=0.0):\n",
    "    torch.nn.init.orthogonal_(layer.weight, std)\n",
    "    torch.nn.init.constant_(layer.bias, bias_const)\n",
    "    return layer\n",
    "\n",
    "class MLP(torch.nn.Module):\n",
    "    def __init__(self):\n",
    "        super().__init__()\n",
    "\n",
    "        self.network = torch.nn.Sequential(\n",
    "            layer_init(torch.nn.Linear(19, 120)),\n",
    "            torch.nn.LayerNorm(120),\n",
    "            torch.nn.ReLU(),\n",
    "            layer_init(torch.nn.Linear(120, 84)),\n",
    "            torch.nn.LayerNorm(84),\n",
    "            torch.nn.ReLU(),\n",
    "            layer_init(torch.nn.Linear(84, 9)),\n",
    "        )\n",
    "\n",
    "    def forward(self, x):\n",
    "        return self.network(x)"
   ]
  },
  {
   "cell_type": "code",
   "execution_count": 8,
   "metadata": {},
   "outputs": [
    {
     "data": {
      "text/plain": [
       "array([[0, 0, 0, 0, 0, 0, 0, 0, 0, 0, 0, 0, 0, 0, 0, 0, 0, 0, 0],\n",
       "       [0, 0, 0, 0, 0, 0, 0, 0, 0, 0, 0, 0, 0, 0, 0, 0, 0, 0, 0],\n",
       "       [0, 0, 0, 0, 0, 0, 0, 0, 0, 0, 0, 0, 0, 0, 0, 0, 0, 0, 0]],\n",
       "      dtype=int16)"
      ]
     },
     "execution_count": 8,
     "metadata": {},
     "output_type": "execute_result"
    }
   ],
   "source": [
    "env = TicTacToeEnvPy(Settings(batch_size=3))\n",
    "x_net = MLP()\n",
    "o_net = MLP()\n",
    "state, info = env.reset_all()\n",
    "state"
   ]
  },
  {
   "cell_type": "code",
   "execution_count": 20,
   "metadata": {},
   "outputs": [],
   "source": [
    "n_step = 100\n",
    "n_env = 3\n",
    "state_space = 19\n",
    "# buffers\n",
    "x_observations = np.zeros((n_step + 1, n_env, state_space), dtype=np.float16)\n",
    "x_rewards = np.zeros((n_step, n_env, 1), dtype=np.float32)\n",
    "x_dones = np.zeros((n_step + 1, n_env, 1), dtype=np.int16)\n",
    "x_actions = np.zeros((n_step, n_env, 1), dtype=np.int32)\n",
    "\n",
    "o_observations = np.zeros((n_step + 1, n_env, state_space), dtype=np.float16)\n",
    "o_rewards = np.zeros((n_step, n_env, 1), dtype=np.float32)\n",
    "o_dones = np.zeros((n_step + 1, n_env, 1), dtype=np.int16)\n",
    "o_actions = np.zeros((n_step, n_env, 1), dtype=np.int32)\n",
    "\n",
    "x_ptr = np.zeros(n_env, dtype=np.int32)\n",
    "o_ptr = np.zeros(n_env, dtype=np.int32)"
   ]
  },
  {
   "cell_type": "code",
   "execution_count": 21,
   "metadata": {},
   "outputs": [],
   "source": [
    "state, info = env.reset_all()"
   ]
  },
  {
   "cell_type": "code",
   "execution_count": 23,
   "metadata": {},
   "outputs": [],
   "source": [
    "# fill first state and done\n",
    "# player_turns = state[:, -1]\n",
    "# x_observations[0] = state\n",
    "\n",
    "for _ in range(100):\n",
    "    player_turns = state[:, -1].astype(int)\n",
    "\n",
    "    x_envs = np.where(player_turns == 0)[0]  # e.g. [0, 2, 5, ...]\n",
    "    o_envs = np.where(player_turns == 1)[0]\n",
    "\n",
    "    # ----\n",
    "\n",
    "    # actions alternative 1\n",
    "    # x_actions = random_move(state).astype(np.int16)\n",
    "    # o_actions = random_move(state).astype(np.int16)\n",
    "    # actions = np.where(player_turns == 0, x_actions, o_actions)\n",
    "\n",
    "    # acitons alternative 2\n",
    "    x_act = random_move(state[x_envs]) if len(x_envs) > 0 else []\n",
    "    o_act = random_move(state[o_envs]) if len(o_envs) > 0 else []\n",
    "\n",
    "    # Build the \"actions\" array for all env\n",
    "    actions = np.zeros(n_env, dtype=np.int16)\n",
    "    if len(x_envs) > 0:\n",
    "        actions[x_envs] = x_act\n",
    "    if len(o_envs) > 0:\n",
    "        actions[o_envs] = o_act\n",
    "\n",
    "    # ----\n",
    "\n",
    "    next_state, reward, done, info = env.step(actions)\n",
    "\n",
    "    # Record transitions for X\n",
    "    if len(x_envs) > 0:\n",
    "        # We do advanced indexing: \n",
    "        x_observations[x_ptr[x_envs], x_envs, :] = state[x_envs]\n",
    "        x_actions[x_ptr[x_envs], x_envs] = actions[x_envs].reshape(-1, 1) # because actions storage has shape (n_step, n_env, 1)\n",
    "        x_rewards[x_ptr[x_envs], x_envs] = reward[x_envs, 0].reshape(-1, 1)  # X's reward\n",
    "        x_dones[x_ptr[x_envs], x_envs] = done[x_envs].reshape(-1, 1)\n",
    "        # Increment the pointer for those envs\n",
    "        x_ptr[x_envs] += 1\n",
    "\n",
    "    # Record transitions for O\n",
    "    if len(o_envs) > 0:\n",
    "        o_observations[o_ptr[o_envs], o_envs, :] = state[o_envs]\n",
    "        o_actions[o_ptr[o_envs], o_envs] = actions[o_envs].reshape(-1, 1)\n",
    "        o_rewards[o_ptr[o_envs], o_envs] = reward[o_envs, 1].reshape(-1, 1)  # O's reward\n",
    "        o_dones[o_ptr[o_envs], o_envs] = done[o_envs].reshape(-1, 1)\n",
    "        o_ptr[o_envs] += 1\n",
    "\n",
    "    state = next_state"
   ]
  },
  {
   "cell_type": "markdown",
   "metadata": {},
   "source": [
    "# Main"
   ]
  },
  {
   "cell_type": "code",
   "execution_count": 25,
   "metadata": {},
   "outputs": [],
   "source": [
    "@contextmanager\n",
    "def time_block(label: str, timing_dict: dict[str, float]):\n",
    "    start_time = time.time()\n",
    "    yield\n",
    "    end_time = time.time()\n",
    "    timing_dict[label] = end_time - start_time"
   ]
  },
  {
   "cell_type": "code",
   "execution_count": 27,
   "metadata": {},
   "outputs": [],
   "source": [
    "@dataclass\n",
    "class Params:\n",
    "    num_iterations: int\n",
    "    lr: float\n",
    "    gamma: float\n",
    "    q_lambda: float\n",
    "    num_envs: int\n",
    "    num_steps: int\n",
    "    # model_device: str\n",
    "    # training_device: str\n",
    "    update_epochs: int\n",
    "    num_minibatches: int\n",
    "    num_eval_steps: int\n",
    "    start_epsilon: float\n",
    "    end_epsilon: float\n",
    "    epsilon_decay_fraction: float"
   ]
  },
  {
   "cell_type": "code",
   "execution_count": 28,
   "metadata": {},
   "outputs": [],
   "source": [
    "def evaluate(env: TicTacToeEnvPy, x_net: MLP, o_net: MLP, n_eval_steps=30) -> tuple[float, float]:\n",
    "    \"\"\"\n",
    "    Quick example of evaluating: we let each agent pick greedy moves\n",
    "    for `n_eval_steps` steps in parallel, ignoring exploration.\n",
    "    Then we measure average reward for X and O.\n",
    "    \"\"\"\n",
    "    s, _ = env.reset_all()\n",
    "    total_rX = 0.0\n",
    "    total_rO = 0.0\n",
    "    total_count = 0\n",
    "    with torch.no_grad():\n",
    "        for _ in range(n_eval_steps):\n",
    "            player_turns = s[:, 18].astype(int)\n",
    "            x_envs = np.where(player_turns == 0)[0]\n",
    "            o_envs = np.where(player_turns == 1)[0]\n",
    "\n",
    "            actions = np.zeros(env._batch_size, dtype=np.int16)\n",
    "\n",
    "            if len(x_envs) > 0:\n",
    "                x_tensor = torch.tensor(s[x_envs], dtype=torch.float32)\n",
    "                x_q = x_net(x_tensor)\n",
    "                x_actions = x_q.argmax(dim=1).cpu().numpy().astype(np.int16)\n",
    "                actions[x_envs] = x_actions\n",
    "\n",
    "            if len(o_envs) > 0:\n",
    "                o_tensor = torch.tensor(s[o_envs], dtype=torch.float32)\n",
    "                o_q = o_net(o_tensor)\n",
    "                o_actions = o_q.argmax(dim=1).cpu().numpy().astype(np.int16)\n",
    "                actions[o_envs] = o_actions\n",
    "\n",
    "            s, r, d, _ = env.step(actions)\n",
    "            total_rX += r[:,0].sum()  # summing X's rewards\n",
    "            total_rO += r[:,1].sum()\n",
    "            total_count += env._batch_size\n",
    "        avg_rX = total_rX / total_count\n",
    "        avg_rO = total_rO / total_count\n",
    "    return avg_rX, avg_rO"
   ]
  },
  {
   "cell_type": "code",
   "execution_count": 29,
   "metadata": {},
   "outputs": [],
   "source": [
    "def get_epsilon(params: Params, iteration: int):\n",
    "    slope = (params.end_epsilon - params.start_epsilon) / (params.epsilon_decay_fraction * params.num_iterations)\n",
    "    return max(slope * iteration + params.start_epsilon, params.end_epsilon)"
   ]
  },
  {
   "cell_type": "code",
   "execution_count": 30,
   "metadata": {},
   "outputs": [
    {
     "ename": "TypeError",
     "evalue": "zeros_like(): argument 'input' (position 1) must be Tensor, not numpy.ndarray",
     "output_type": "error",
     "traceback": [
      "\u001b[1;31m---------------------------------------------------------------------------\u001b[0m",
      "\u001b[1;31mTypeError\u001b[0m                                 Traceback (most recent call last)",
      "Cell \u001b[1;32mIn[30], line 43\u001b[0m\n\u001b[0;32m     40\u001b[0m o_ptr \u001b[38;5;241m=\u001b[39m np\u001b[38;5;241m.\u001b[39mzeros(params\u001b[38;5;241m.\u001b[39mnum_envs, dtype\u001b[38;5;241m=\u001b[39mnp\u001b[38;5;241m.\u001b[39mint32)\n\u001b[0;32m     42\u001b[0m x_values \u001b[38;5;241m=\u001b[39m torch\u001b[38;5;241m.\u001b[39mzeros((params\u001b[38;5;241m.\u001b[39mnum_steps, params\u001b[38;5;241m.\u001b[39mnum_envs))\u001b[38;5;241m.\u001b[39mto(params\u001b[38;5;241m.\u001b[39mtraining_device)\n\u001b[1;32m---> 43\u001b[0m x_returns \u001b[38;5;241m=\u001b[39m \u001b[43mtorch\u001b[49m\u001b[38;5;241;43m.\u001b[39;49m\u001b[43mzeros_like\u001b[49m\u001b[43m(\u001b[49m\u001b[43mx_rewards\u001b[49m\u001b[43m)\u001b[49m\u001b[38;5;241m.\u001b[39mto(params\u001b[38;5;241m.\u001b[39mtraining_device)\n\u001b[0;32m     44\u001b[0m o_values \u001b[38;5;241m=\u001b[39m torch\u001b[38;5;241m.\u001b[39mzeros((params\u001b[38;5;241m.\u001b[39mnum_steps, params\u001b[38;5;241m.\u001b[39mnum_envs))\u001b[38;5;241m.\u001b[39mto(params\u001b[38;5;241m.\u001b[39mtraining_device)\n\u001b[0;32m     45\u001b[0m o_returns \u001b[38;5;241m=\u001b[39m torch\u001b[38;5;241m.\u001b[39mzeros_like(o_rewards)\u001b[38;5;241m.\u001b[39mto(params\u001b[38;5;241m.\u001b[39mtraining_device)\n",
      "\u001b[1;31mTypeError\u001b[0m: zeros_like(): argument 'input' (position 1) must be Tensor, not numpy.ndarray"
     ]
    }
   ],
   "source": [
    "params = Params(\n",
    "    num_iterations=6,\n",
    "    lr=6e-4,\n",
    "    gamma=0.99,\n",
    "    q_lambda=0.65,\n",
    "    num_envs=2048,\n",
    "    num_steps=26,\n",
    "    model_device=\"cuda\",\n",
    "    training_device=\"cuda\",\n",
    "    update_epochs=4,\n",
    "    num_minibatches=4,\n",
    "    num_eval_steps=12,\n",
    "    start_epsilon=1.0,\n",
    "    end_epsilon=0.1,\n",
    "    epsilon_end_fraction=0.5,\n",
    ")\n",
    "def train_two_agent(params: Params):\n",
    "    vec_env = TicTacToeEnvPy(Settings(batch_size=params.num_envs))\n",
    "    observations, _ = vec_env.reset_all()\n",
    "    x_network = MLP().to(params.model_device)\n",
    "    o_network = MLP().to(params.model_device)\n",
    "    # optimizer = torch.optim.AdamW(x_network.parameters(), lr=params.lr, amsgrad=True)\n",
    "    x_optimizer = torch.optim.RMSprop(x_network.parameters(), lr=params.lr)\n",
    "    o_optimizer = torch.optim.RMSprop(x_network.parameters(), lr=params.lr)\n",
    "    steps_done = 0\n",
    "    losses = []\n",
    "    evals = []\n",
    "    timing_data = {}\n",
    "\n",
    "    x_observations = np.zeros((params.num_steps + 1, params.num_envs, state_space), dtype=np.float16)\n",
    "    x_rewards = np.zeros((params.num_steps, params.num_envs, 1), dtype=np.float32)\n",
    "    x_dones = np.zeros((params.num_steps + 1, params.num_envs, 1), dtype=np.int16)\n",
    "    x_actions = np.zeros((params.num_steps, params.num_envs, 1), dtype=np.int32)\n",
    "\n",
    "    o_observations = np.zeros((params.num_steps + 1, params.num_envs, state_space), dtype=np.float16)\n",
    "    o_rewards = np.zeros((params.num_steps, params.num_envs, 1), dtype=np.float32)\n",
    "    o_dones = np.zeros((params.num_steps + 1, params.num_envs, 1), dtype=np.int16)\n",
    "    o_actions = np.zeros((params.num_steps, params.num_envs, 1), dtype=np.int32)\n",
    "\n",
    "    x_ptr = np.zeros(params.num_envs, dtype=np.int32)\n",
    "    o_ptr = np.zeros(params.num_envs, dtype=np.int32)\n",
    "\n",
    "    x_values = torch.zeros((params.num_steps, params.num_envs)).to(params.training_device)\n",
    "    x_returns = torch.zeros_like(x_rewards).to(params.training_device)\n",
    "    o_values = torch.zeros((params.num_steps, params.num_envs)).to(params.training_device)\n",
    "    o_returns = torch.zeros_like(o_rewards).to(params.training_device)\n",
    "\n",
    "    state_tensor = torch.zeros((params.num_envs, 18), device=params.model_device)\n",
    "\n",
    "    batch_size = params.num_steps * params.num_envs // params.num_minibatches\n",
    "\n",
    "    for iteration in range(params.num_iterations):\n",
    "        with time_block(\"device_switch\", timing_data):\n",
    "            x_network.eval()\n",
    "            x_network.to(params.model_device)\n",
    "        # Eval\n",
    "        with time_block(\"evaluation\", timing_data):\n",
    "            evals.append(eval(x_network, vec_env, params))\n",
    "\n",
    "        epsilon = get_epsilon(params, iteration)\n",
    "        \n",
    "        # Rollout\n",
    "        with time_block(\"rollout\", timing_data):\n",
    "            for step in range(params.num_steps):\n",
    "                steps_done += 1\n",
    "                state_tensor[:] = torch.from_numpy(observations.astype(np.float32)).to(device=params.model_device)\n",
    "\n",
    "                random_actions = torch.randint(0, 9, (params.num_envs,), device=params.model_device)\n",
    "                with torch.inference_mode():\n",
    "                    x_q_values = x_network(state_tensor)\n",
    "                    x_policy_actions = torch.argmax(x_q_values, dim=1)\n",
    "                    x_values[step] = x_q_values[torch.arange(params.num_envs), x_policy_actions].flatten()\n",
    "\n",
    "                    o_q_values = o_network(state_tensor)\n",
    "                    o_policy_actions = torch.argmax(o_q_values, dim=1)\n",
    "                    o_values[step] = o_q_values[torch.arange(params.num_envs), o_policy_actions].flatten()\n",
    "\n",
    "                policy_actions = np.where(player_turns == 0, x_policy_actions, o_policy_actions)\n",
    "\n",
    "                explore_mask = torch.rand(params.num_envs, device=params.model_device) < epsilon\n",
    "                action = torch.where(explore_mask, random_actions, policy_actions)\n",
    "                actions = action.unsqueeze(1)\n",
    "\n",
    "                observations, reward, done, _ = vec_env.step(action.numpy(force=True).astype(np.int16)) \n",
    "\n",
    "                if len(x_envs) > 0:\n",
    "                    # We do advanced indexing: \n",
    "                    x_observations[x_ptr[x_envs], x_envs, :] = state[x_envs]\n",
    "                    x_actions[x_ptr[x_envs], x_envs] = actions[x_envs].reshape(-1, 1) # because actions storage has shape (n_step, n_env, 1)\n",
    "                    x_rewards[x_ptr[x_envs], x_envs] = reward[x_envs, 0].reshape(-1, 1)  # X's reward\n",
    "                    x_dones[x_ptr[x_envs], x_envs] = done[x_envs].reshape(-1, 1)\n",
    "                    # Increment the pointer for those envs\n",
    "                    x_ptr[x_envs] += 1\n",
    "\n",
    "                # Record transitions for O\n",
    "                if len(o_envs) > 0:\n",
    "                    o_observations[o_ptr[o_envs], o_envs, :] = state[o_envs]\n",
    "                    o_actions[o_ptr[o_envs], o_envs] = actions[o_envs].reshape(-1, 1)\n",
    "                    o_rewards[o_ptr[o_envs], o_envs] = reward[o_envs, 1].reshape(-1, 1)  # O's reward\n",
    "                    o_dones[o_ptr[o_envs], o_envs] = done[o_envs].reshape(-1, 1)\n",
    "                    o_ptr[o_envs] += 1\n",
    "\n",
    "            # add final observation\n",
    "            # next_obs = torch.tensor(observations, dtype=torch.float32, device=params.model_device)\n",
    "            # obs[-1] = next_obs\n",
    "            # dones[-1] = done\n",
    "        \n",
    "        # Train\n",
    "        with time_block(\"device_switch\", timing_data):\n",
    "            x_network.train()\n",
    "            x_network.to(params.training_device)\n",
    "        \n",
    "        x_next_obs = x_observations[x_ptr - 1]\n",
    "        \n",
    "        # Q(lambda)\n",
    "        with time_block(\"q_lambda\", timing_data):\n",
    "            with torch.no_grad():\n",
    "                for t in reversed(range(params.num_steps)):\n",
    "                    if t == params.num_steps - 1:\n",
    "                        next_value, _ = torch.max(x_network(x_next_obs.to(params.training_device)), dim=-1)\n",
    "                        nextnonterminal = 1.0 - done\n",
    "                        returns[t] = rewards[t] + params.gamma * next_value * nextnonterminal\n",
    "                    else:\n",
    "                        nextnonterminal = 1.0 - dones[t + 1]\n",
    "                        next_value = values[t + 1]\n",
    "                        returns[t] = rewards[t] + params.gamma * (\n",
    "                            params.q_lambda * returns[t + 1] + (1 - params.q_lambda) * next_value * nextnonterminal\n",
    "                        )\n",
    "\n",
    "        with time_block(\"optimize\", timing_data):\n",
    "            # flatten the batch\n",
    "            b_obs = obs.reshape((-1, 18))\n",
    "            b_actions = actions.reshape((-1, 1))\n",
    "            b_returns = returns.reshape(-1)\n",
    "\n",
    "            # Optimize\n",
    "            inds = np.arange(params.num_steps * params.num_envs)\n",
    "            for epoch in range(params.update_epochs):\n",
    "                np.random.shuffle(inds)\n",
    "                for batch_start in range(0, params.num_steps * params.num_envs, batch_size):\n",
    "                    batch_inds = inds[batch_start : batch_start + batch_size]\n",
    "\n",
    "                    old_val = x_network(b_obs[batch_inds]).gather(1, b_actions[batch_inds].long()).squeeze()\n",
    "                    loss = torch.nn.functional.mse_loss(b_returns[batch_inds], old_val)\n",
    "\n",
    "                    optimizer.zero_grad()\n",
    "                    loss.backward()\n",
    "                    torch.nn.utils.clip_grad_norm_(x_network.parameters(), max_norm=10.0)\n",
    "                    optimizer.step()\n",
    "                    losses.append(loss.detach().cpu().numpy())\n",
    "\n",
    "    plt.plot(losses)\n",
    "    plt.show()\n",
    "    plt.plot(evals)\n",
    "    plt.show()\n",
    "    print(timing_data)"
   ]
  },
  {
   "cell_type": "code",
   "execution_count": null,
   "metadata": {},
   "outputs": [],
   "source": [
    "q_network(torch.zeros(1, 18, device=params.training_device))"
   ]
  },
  {
   "cell_type": "code",
   "execution_count": null,
   "metadata": {},
   "outputs": [],
   "source": [
    "# cake diagram of timing data\n",
    "plt.figure(figsize=(10, 10))\n",
    "plt.pie(timing_data.values(), labels=timing_data.keys(), autopct=\"%1.1f%%\")\n",
    "plt.show()"
   ]
  }
 ],
 "metadata": {
  "kernelspec": {
   "display_name": ".venv",
   "language": "python",
   "name": "python3"
  },
  "language_info": {
   "codemirror_mode": {
    "name": "ipython",
    "version": 3
   },
   "file_extension": ".py",
   "mimetype": "text/x-python",
   "name": "python",
   "nbconvert_exporter": "python",
   "pygments_lexer": "ipython3",
   "version": "3.11.6"
  }
 },
 "nbformat": 4,
 "nbformat_minor": 2
}
